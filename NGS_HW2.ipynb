{
  "cells": [
    {
      "cell_type": "code",
      "execution_count": 1,
      "metadata": {
        "colab": {
          "base_uri": "https://localhost:8080/"
        },
        "id": "Ws066ygszJ1F",
        "outputId": "eb212b78-524a-4877-9af6-003a90afa577"
      },
      "outputs": [
        {
          "output_type": "stream",
          "name": "stdout",
          "text": [
            "/content\n"
          ]
        }
      ],
      "source": [
        "!pwd"
      ]
    },
    {
      "cell_type": "code",
      "execution_count": 2,
      "metadata": {
        "id": "79OYgVPezmRQ"
      },
      "outputs": [],
      "source": [
        "from google.colab import drive"
      ]
    },
    {
      "cell_type": "code",
      "execution_count": 3,
      "metadata": {
        "colab": {
          "base_uri": "https://localhost:8080/"
        },
        "id": "rral4zdyztq3",
        "outputId": "2445e348-00a5-4993-e6bd-04f95c25b5ae"
      },
      "outputs": [
        {
          "output_type": "stream",
          "name": "stdout",
          "text": [
            "Mounted at /content/drive\n"
          ]
        }
      ],
      "source": [
        "drive.mount('/content/drive')"
      ]
    },
    {
      "cell_type": "code",
      "execution_count": 4,
      "metadata": {
        "colab": {
          "base_uri": "https://localhost:8080/"
        },
        "id": "XGShTFR7zvgt",
        "outputId": "bc91ee63-a523-4b46-d0d2-0a561a1fe73a"
      },
      "outputs": [
        {
          "output_type": "stream",
          "name": "stdout",
          "text": [
            "⏬ Downloading https://github.com/jaimergp/miniforge/releases/latest/download/Mambaforge-colab-Linux-x86_64.sh...\n",
            "📦 Installing...\n",
            "📌 Adjusting configuration...\n",
            "🩹 Patching environment...\n",
            "⏲ Done in 0:00:22\n",
            "🔁 Restarting kernel...\n"
          ]
        }
      ],
      "source": [
        "!pip install -q condacolab\n",
        "import condacolab\n",
        "condacolab.install()"
      ]
    },
    {
      "cell_type": "markdown",
      "source": [
        "Установка необходимых пакетов"
      ],
      "metadata": {
        "id": "xPiFz1ZKjt4N"
      }
    },
    {
      "cell_type": "code",
      "execution_count": null,
      "metadata": {
        "id": "U6PaFKWw0Nkp"
      },
      "outputs": [],
      "source": [
        "!conda install -c bioconda samtools"
      ]
    },
    {
      "cell_type": "code",
      "execution_count": null,
      "metadata": {
        "id": "-cJSkh6Z0Y9g"
      },
      "outputs": [],
      "source": [
        "! conda install -y -c bioconda hisat2"
      ]
    },
    {
      "cell_type": "code",
      "execution_count": 3,
      "metadata": {
        "colab": {
          "base_uri": "https://localhost:8080/"
        },
        "id": "5HdAAtWc0Pqe",
        "outputId": "7448e856-88f4-43cf-b40a-f7c6f951bc64"
      },
      "outputs": [
        {
          "output_type": "stream",
          "name": "stdout",
          "text": [
            "B14.5.fq.gz  B17.5.fq.gz  B34.fq.gz    C15.5.fq.gz  C20.fq.gz\n",
            "B15.5.fq.gz  B20.fq.gz\t  C14.5.fq.gz  C17.5.fq.gz  C34.fq.gz\n"
          ]
        }
      ],
      "source": [
        "!ls drive/MyDrive/ngs_rna-seq_data"
      ]
    },
    {
      "cell_type": "markdown",
      "source": [
        "Скачивание файлов с Ensembl"
      ],
      "metadata": {
        "id": "NV2gNj0Bj45Y"
      }
    },
    {
      "cell_type": "code",
      "execution_count": null,
      "metadata": {
        "id": "rUVCwHnV0Rk3"
      },
      "outputs": [],
      "source": [
        "!wget http://ftp.ensembl.org/pub/release-107/fasta/mus_musculus/dna/Mus_musculus.GRCm39.dna.chromosome.19.fa.gz\n",
        "#19 chromosome sequence"
      ]
    },
    {
      "cell_type": "code",
      "execution_count": null,
      "metadata": {
        "id": "1ECke5Iu0s61"
      },
      "outputs": [],
      "source": [
        "!wget http://ftp.ensembl.org/pub/release-107/gtf/mus_musculus/Mus_musculus.GRCm39.107.chr.gtf.gz\n",
        "#annotation file"
      ]
    },
    {
      "cell_type": "code",
      "execution_count": 6,
      "metadata": {
        "id": "P7Ss8OF20nxJ"
      },
      "outputs": [],
      "source": [
        "!mkdir genome-annotation\n",
        "!mv Mus_musculus.GRCm39.107.chr.gtf.gz genome-annotation\n",
        "!mv Mus_musculus.GRCm39.dna.chromosome.19.fa.gz genome-annotation\n",
        "!gunzip ./genome-annotation/*"
      ]
    },
    {
      "cell_type": "code",
      "execution_count": 7,
      "metadata": {
        "colab": {
          "base_uri": "https://localhost:8080/"
        },
        "id": "IET7ZYf30xqS",
        "outputId": "99da7fda-2dc8-49d4-a3dd-56f672bb98ea"
      },
      "outputs": [
        {
          "output_type": "stream",
          "name": "stdout",
          "text": [
            "/content/genome-annotation\n"
          ]
        }
      ],
      "source": [
        "%cd ./genome-annotation"
      ]
    },
    {
      "cell_type": "code",
      "execution_count": 8,
      "metadata": {
        "id": "Tc5ADQiy0z8s"
      },
      "outputs": [],
      "source": [
        "!grep -P '^19\\t' Mus_musculus.GRCm39.107.chr.gtf > chr19.gtf"
      ]
    },
    {
      "cell_type": "code",
      "execution_count": 9,
      "metadata": {
        "id": "FM5zjZFQ1M0p"
      },
      "outputs": [],
      "source": [
        "!hisat2_extract_splice_sites.py chr19.gtf > chr19.splicesites\n",
        "!hisat2_extract_exons.py chr19.gtf > chr19.exons"
      ]
    },
    {
      "cell_type": "markdown",
      "source": [
        "Построение индекса (с координатами сайтов)"
      ],
      "metadata": {
        "id": "JwwSouDJkLtR"
      }
    },
    {
      "cell_type": "code",
      "execution_count": null,
      "metadata": {
        "id": "qpPT-IyF1OQS"
      },
      "outputs": [],
      "source": [
        "!hisat2-build --ss chr19.splicesites --exon chr19.exons Mus_musculus.GRCm39.dna.chromosome.19.fa Mus_musculus.GRCm39.dna.chromosome.19"
      ]
    },
    {
      "cell_type": "code",
      "execution_count": 11,
      "metadata": {
        "colab": {
          "base_uri": "https://localhost:8080/"
        },
        "id": "y8cLuSdR1Rg-",
        "outputId": "3c0dd741-1be5-413f-e3c0-96b321dec3f3"
      },
      "outputs": [
        {
          "output_type": "stream",
          "name": "stdout",
          "text": [
            "/content\n"
          ]
        }
      ],
      "source": [
        "%cd ../\n",
        "!mkdir bam_files"
      ]
    },
    {
      "cell_type": "markdown",
      "source": [
        "Картирование ридов с помощью hisat2"
      ],
      "metadata": {
        "id": "hN4Fo52GkHKH"
      }
    },
    {
      "cell_type": "code",
      "execution_count": null,
      "metadata": {
        "id": "CDu_i8sP1gE4"
      },
      "outputs": [],
      "source": [
        "%%shell\n",
        "reads='B14.5 B17.5 B15.5 B20 B34 C15.5 C14.5 C17.5 C20 C34'\n",
        "index='./genome-annotation/Mus_musculus.GRCm39.dna.chromosome.19'\n",
        "file_path='./drive/MyDrive/ngs_rna-seq_data'\n",
        "splice='./genome-annotation/chr19.splicesites'\n",
        "out_path='./bam_files'\n",
        "for read in ${reads}\n",
        "do hisat2 --summary-file ${read}.log --no-softclip --no-unal --known-splicesite-infile ${splice} -x ${index} -U ${file_path}/${read}.fq.gz | samtools view -Sb - > ${out_path}/${read}.bam\n",
        "done"
      ]
    },
    {
      "cell_type": "markdown",
      "metadata": {
        "id": "7-Jo2i-X2WTF"
      },
      "source": [
        "2. Сборка транскриптов с помощью stringtie"
      ]
    },
    {
      "cell_type": "code",
      "execution_count": null,
      "metadata": {
        "id": "dCfDg6ai2U0S"
      },
      "outputs": [],
      "source": [
        "! conda install -c bioconda stringtie"
      ]
    },
    {
      "cell_type": "code",
      "execution_count": 14,
      "metadata": {
        "id": "I8iiciHj4YCe"
      },
      "outputs": [],
      "source": [
        "!mkdir sort_bam_files"
      ]
    },
    {
      "cell_type": "code",
      "execution_count": 15,
      "metadata": {
        "id": "rBHTCuVF2ozb",
        "colab": {
          "base_uri": "https://localhost:8080/"
        },
        "outputId": "7bfaf290-598b-4574-c2de-cb9eb67c722e"
      },
      "outputs": [
        {
          "output_type": "execute_result",
          "data": {
            "text/plain": []
          },
          "metadata": {},
          "execution_count": 15
        }
      ],
      "source": [
        "%%shell \n",
        "reads='B14.5 B17.5 B15.5 B20 B34 C15.5 C14.5 C17.5 C20 C34' \n",
        "file_path='./bam_files'\n",
        "sort_path='./sort_bam_files'\n",
        "for read in ${reads}\n",
        "do samtools sort -o  ${sort_path}/${read}_sorted.bam  ${file_path}/${read}.bam #sorting reads since stringtie requires sorted input files\n",
        "done"
      ]
    },
    {
      "cell_type": "code",
      "execution_count": 16,
      "metadata": {
        "id": "qdm6llYE8UJp"
      },
      "outputs": [],
      "source": [
        "!mkdir new_annotations"
      ]
    },
    {
      "cell_type": "code",
      "execution_count": 17,
      "metadata": {
        "id": "q4ScfYnb34nW",
        "colab": {
          "base_uri": "https://localhost:8080/"
        },
        "outputId": "a2b90ba3-444c-421f-a761-c677b0f0b184"
      },
      "outputs": [
        {
          "output_type": "execute_result",
          "data": {
            "text/plain": []
          },
          "metadata": {},
          "execution_count": 17
        }
      ],
      "source": [
        "%%shell \n",
        "reads='B14.5 B17.5 B15.5 B20 B34 C15.5 C14.5 C17.5 C20 C34' \n",
        "genome_path='./genome-annotation'\n",
        "annotations_path='./new_annotations'\n",
        "sort_path='./sort_bam_files'\n",
        "for read in ${reads}\n",
        "do stringtie -o ${annotations_path}/${read}_annotation.gtf -G ${genome_path}/Mus_musculus.GRCm39.107.chr.gtf ${sort_path}/${read}_sorted.bam #new annotations with stringtie\n",
        "done"
      ]
    },
    {
      "cell_type": "code",
      "execution_count": 18,
      "metadata": {
        "id": "xUSrxZsx_iBB",
        "colab": {
          "base_uri": "https://localhost:8080/"
        },
        "outputId": "4dc169ce-9f51-425a-bfc5-4d240760e1eb"
      },
      "outputs": [
        {
          "output_type": "stream",
          "name": "stdout",
          "text": [
            "/content/new_annotations\n"
          ]
        }
      ],
      "source": [
        "%cd new_annotations"
      ]
    },
    {
      "cell_type": "code",
      "execution_count": 19,
      "metadata": {
        "id": "yO3yVusTCu9D"
      },
      "outputs": [],
      "source": [
        "!ls > ../list.txt #create the list of files with annotations after stringtie"
      ]
    },
    {
      "cell_type": "code",
      "execution_count": 20,
      "metadata": {
        "id": "f1nqY7U1Hsi0",
        "colab": {
          "base_uri": "https://localhost:8080/"
        },
        "outputId": "b517da09-6e0b-4fdd-b5d4-2c29c791ee23"
      },
      "outputs": [
        {
          "output_type": "stream",
          "name": "stdout",
          "text": [
            "/content\n"
          ]
        }
      ],
      "source": [
        "%cd ..//"
      ]
    },
    {
      "cell_type": "code",
      "execution_count": 21,
      "metadata": {
        "id": "t2wfRDBNGXd4",
        "colab": {
          "base_uri": "https://localhost:8080/"
        },
        "outputId": "af6b3804-6e50-46a8-cebc-75ee02031a64"
      },
      "outputs": [
        {
          "output_type": "stream",
          "name": "stdout",
          "text": [
            "renamed './new_annotations/B14.5_annotation.gtf' -> '../content/B14.5_annotation.gtf'\n",
            "renamed './new_annotations/B15.5_annotation.gtf' -> '../content/B15.5_annotation.gtf'\n",
            "renamed './new_annotations/B17.5_annotation.gtf' -> '../content/B17.5_annotation.gtf'\n",
            "renamed './new_annotations/B20_annotation.gtf' -> '../content/B20_annotation.gtf'\n",
            "renamed './new_annotations/B34_annotation.gtf' -> '../content/B34_annotation.gtf'\n",
            "renamed './new_annotations/C14.5_annotation.gtf' -> '../content/C14.5_annotation.gtf'\n",
            "renamed './new_annotations/C15.5_annotation.gtf' -> '../content/C15.5_annotation.gtf'\n",
            "renamed './new_annotations/C17.5_annotation.gtf' -> '../content/C17.5_annotation.gtf'\n",
            "renamed './new_annotations/C20_annotation.gtf' -> '../content/C20_annotation.gtf'\n",
            "renamed './new_annotations/C34_annotation.gtf' -> '../content/C34_annotation.gtf'\n"
          ]
        }
      ],
      "source": [
        "!mv  -v ./new_annotations/* ../content/"
      ]
    },
    {
      "cell_type": "code",
      "execution_count": 22,
      "metadata": {
        "id": "LsMF-2rADKBs"
      },
      "outputs": [],
      "source": [
        "!stringtie --merge -G ./genome-annotation/Mus_musculus.GRCm39.107.chr.gtf -o stringtie_m_output.gtf list.txt #create merged annotation file"
      ]
    },
    {
      "cell_type": "code",
      "execution_count": 23,
      "metadata": {
        "id": "-sQSKMjfEwVM",
        "colab": {
          "base_uri": "https://localhost:8080/"
        },
        "outputId": "a58d0c54-7f84-4cc1-d137-d407d4b7cf79"
      },
      "outputs": [
        {
          "output_type": "stream",
          "name": "stdout",
          "text": [
            "# stringtie --merge -G ./genome-annotation/Mus_musculus.GRCm39.107.chr.gtf -o stringtie_m_output.gtf list.txt\n",
            "# StringTie version 2.2.1\n",
            "19\tStringTie\ttranscript\t3103071\t3247732\t1000\t-\t.\tgene_id \"MSTRG.1\"; transcript_id \"ENSMUST00000237047\"; gene_name \"1700030N03Rik\"; ref_gene_id \"ENSMUSG00000100969\"; \n",
            "19\tStringTie\texon\t3103071\t3103278\t1000\t-\t.\tgene_id \"MSTRG.1\"; transcript_id \"ENSMUST00000237047\"; exon_number \"1\"; gene_name \"1700030N03Rik\"; ref_gene_id \"ENSMUSG00000100969\"; \n",
            "19\tStringTie\texon\t3109880\t3109991\t1000\t-\t.\tgene_id \"MSTRG.1\"; transcript_id \"ENSMUST00000237047\"; exon_number \"2\"; gene_name \"1700030N03Rik\"; ref_gene_id \"ENSMUSG00000100969\"; \n",
            "19\tStringTie\texon\t3119367\t3119440\t1000\t-\t.\tgene_id \"MSTRG.1\"; transcript_id \"ENSMUST00000237047\"; exon_number \"3\"; gene_name \"1700030N03Rik\"; ref_gene_id \"ENSMUSG00000100969\"; \n",
            "19\tStringTie\texon\t3122688\t3122953\t1000\t-\t.\tgene_id \"MSTRG.1\"; transcript_id \"ENSMUST00000237047\"; exon_number \"4\"; gene_name \"1700030N03Rik\"; ref_gene_id \"ENSMUSG00000100969\"; \n",
            "19\tStringTie\texon\t3246945\t3247029\t1000\t-\t.\tgene_id \"MSTRG.1\"; transcript_id \"ENSMUST00000237047\"; exon_number \"5\"; gene_name \"1700030N03Rik\"; ref_gene_id \"ENSMUSG00000100969\"; \n",
            "19\tStringTie\texon\t3247605\t3247732\t1000\t-\t.\tgene_id \"MSTRG.1\"; transcript_id \"ENSMUST00000237047\"; exon_number \"6\"; gene_name \"1700030N03Rik\"; ref_gene_id \"ENSMUSG00000100969\"; \n",
            "19\tStringTie\ttranscript\t3115711\t3247732\t1000\t-\t.\tgene_id \"MSTRG.1\"; transcript_id \"ENSMUST00000236704\"; gene_name \"1700030N03Rik\"; ref_gene_id \"ENSMUSG00000100969\"; \n"
          ]
        }
      ],
      "source": [
        "!head stringtie_m_output.gtf "
      ]
    },
    {
      "cell_type": "markdown",
      "metadata": {
        "id": "yDwIE-q0ImT1"
      },
      "source": [
        "3. Перекартирование с новой аннотацией"
      ]
    },
    {
      "cell_type": "code",
      "execution_count": 24,
      "metadata": {
        "id": "0XZEMuQMFPVG"
      },
      "outputs": [],
      "source": [
        "!hisat2_extract_splice_sites.py stringtie_m_output.gtf > stringtie.splicesites\n",
        "!hisat2_extract_exons.py stringtie_m_output.gtf > stringtie.exons"
      ]
    },
    {
      "cell_type": "code",
      "execution_count": 25,
      "metadata": {
        "id": "tH5Lbo3zJbCx"
      },
      "outputs": [],
      "source": [
        "#filter only 19 chromosome data from annotation\n",
        "! awk ' $1 == 19' stringtie.splicesites > stringtie_19.splicesites\n",
        "! awk ' $1 == 19' stringtie.exons > stringtie_19.exons"
      ]
    },
    {
      "cell_type": "code",
      "execution_count": 26,
      "metadata": {
        "id": "FaPD92UxI74p",
        "colab": {
          "base_uri": "https://localhost:8080/"
        },
        "outputId": "1f8cbaa5-a219-4eb2-acea-2795228c803f"
      },
      "outputs": [
        {
          "output_type": "stream",
          "name": "stdout",
          "text": [
            "19\t3103277\t3109879\t-\n",
            "19\t3109990\t3119366\t-\n",
            "19\t3118148\t3119366\t-\n",
            "19\t3119439\t3122687\t-\n",
            "19\t3122952\t3125713\t-\n",
            "19\t3122952\t3246944\t-\n",
            "19\t3125884\t3246944\t-\n",
            "19\t3133340\t3137330\t+\n",
            "19\t3196264\t3197632\t-\n",
            "19\t3196264\t3203930\t-\n"
          ]
        }
      ],
      "source": [
        "!head stringtie_19.splicesites"
      ]
    },
    {
      "cell_type": "code",
      "execution_count": null,
      "metadata": {
        "id": "Ke17GyimJDrm"
      },
      "outputs": [],
      "source": [
        "!hisat2-build --ss stringtie_19.splicesites --exon stringtie_19.exons ./genome-annotation/Mus_musculus.GRCm39.dna.chromosome.19.fa stringtie"
      ]
    },
    {
      "cell_type": "code",
      "execution_count": 28,
      "metadata": {
        "id": "TCb2h969KV9A"
      },
      "outputs": [],
      "source": [
        "!mkdir stringtie_bam_files"
      ]
    },
    {
      "cell_type": "code",
      "execution_count": null,
      "metadata": {
        "id": "gTSIgn6wLEls"
      },
      "outputs": [],
      "source": [
        "%%shell\n",
        "reads='B14.5 B17.5 B15.5 B20 B34 C15.5 C14.5 C17.5 C20 C34'\n",
        "index='stringtie'\n",
        "file_path='./drive/MyDrive/ngs_rna-seq_data'\n",
        "splice='./stringtie_19.splicesites'\n",
        "out_path='./stringtie_bam_files'\n",
        "for read in ${reads}\n",
        "do hisat2 --summary-file ${read}.log --no-softclip --no-unal --known-splicesite-infile ${splice} -x ${index} -U ${file_path}/${read}.fq.gz | samtools view -Sb - > ${out_path}/${read}_stringtie.bam\n",
        "done"
      ]
    },
    {
      "cell_type": "markdown",
      "metadata": {
        "id": "iILhifn9MRmn"
      },
      "source": [
        "4. Оценка экспрессии генов в каждом образце при помощи subread"
      ]
    },
    {
      "cell_type": "code",
      "execution_count": null,
      "metadata": {
        "id": "9SMZeDI2L1F2"
      },
      "outputs": [],
      "source": [
        "! conda install -c bioconda subread"
      ]
    },
    {
      "cell_type": "code",
      "execution_count": null,
      "metadata": {
        "id": "4bFaRyO6Nehf"
      },
      "outputs": [],
      "source": [
        "#get read counts table\n",
        "!featureCounts -a ./genome-annotation/chr19.gtf -o counts.txt ./stringtie_bam_files/*"
      ]
    },
    {
      "cell_type": "code",
      "execution_count": 32,
      "metadata": {
        "id": "DLFo_1hbP46p",
        "colab": {
          "base_uri": "https://localhost:8080/"
        },
        "outputId": "8fb4478b-7113-4a69-e87d-8a6456fc73e7"
      },
      "outputs": [
        {
          "output_type": "stream",
          "name": "stdout",
          "text": [
            "Status\t./stringtie_bam_files/B14.5_stringtie.bam\t./stringtie_bam_files/B15.5_stringtie.bam\t./stringtie_bam_files/B17.5_stringtie.bam\t./stringtie_bam_files/B20_stringtie.bam\t./stringtie_bam_files/B34_stringtie.bam\t./stringtie_bam_files/C14.5_stringtie.bam\t./stringtie_bam_files/C15.5_stringtie.bam\t./stringtie_bam_files/C17.5_stringtie.bam\t./stringtie_bam_files/C20_stringtie.bam\t./stringtie_bam_files/C34_stringtie.bam\n",
            "Assigned\t434378\t416618\t414835\t432418\t451437\t427806\t413203\t445374\t446129\t441774\n",
            "Unassigned_Unmapped\t0\t0\t0\t0\t0\t0\t0\t0\t0\t0\n",
            "Unassigned_Read_Type\t0\t0\t0\t0\t0\t0\t0\t0\t0\t0\n",
            "Unassigned_Singleton\t0\t0\t0\t0\t0\t0\t0\t0\t0\t0\n",
            "Unassigned_MappingQuality\t0\t0\t0\t0\t0\t0\t0\t0\t0\t0\n",
            "Unassigned_Chimera\t0\t0\t0\t0\t0\t0\t0\t0\t0\t0\n",
            "Unassigned_FragmentLength\t0\t0\t0\t0\t0\t0\t0\t0\t0\t0\n",
            "Unassigned_Duplicate\t0\t0\t0\t0\t0\t0\t0\t0\t0\t0\n",
            "Unassigned_MultiMapping\t26933\t25593\t22121\t23239\t19158\t25341\t23421\t22952\t21662\t20893\n"
          ]
        }
      ],
      "source": [
        "!head counts.txt.summary"
      ]
    },
    {
      "cell_type": "code",
      "execution_count": 33,
      "metadata": {
        "id": "Tc8OWhNnQHR2",
        "colab": {
          "base_uri": "https://localhost:8080/"
        },
        "outputId": "fd5ae2b6-672c-4bd3-a0e1-6f6a276a4dbb"
      },
      "outputs": [
        {
          "output_type": "stream",
          "name": "stdout",
          "text": [
            "# Program:featureCounts v2.0.1; Command:\"featureCounts\" \"-a\" \"./genome-annotation/chr19.gtf\" \"-o\" \"counts.txt\" \"./stringtie_bam_files/B14.5_stringtie.bam\" \"./stringtie_bam_files/B15.5_stringtie.bam\" \"./stringtie_bam_files/B17.5_stringtie.bam\" \"./stringtie_bam_files/B20_stringtie.bam\" \"./stringtie_bam_files/B34_stringtie.bam\" \"./stringtie_bam_files/C14.5_stringtie.bam\" \"./stringtie_bam_files/C15.5_stringtie.bam\" \"./stringtie_bam_files/C17.5_stringtie.bam\" \"./stringtie_bam_files/C20_stringtie.bam\" \"./stringtie_bam_files/C34_stringtie.bam\" \n",
            "Geneid\tChr\tStart\tEnd\tStrand\tLength\t./stringtie_bam_files/B14.5_stringtie.bam\t./stringtie_bam_files/B15.5_stringtie.bam\t./stringtie_bam_files/B17.5_stringtie.bam\t./stringtie_bam_files/B20_stringtie.bam\t./stringtie_bam_files/B34_stringtie.bam\t./stringtie_bam_files/C14.5_stringtie.bam\t./stringtie_bam_files/C15.5_stringtie.bam\t./stringtie_bam_files/C17.5_stringtie.bam\t./stringtie_bam_files/C20_stringtie.bam\t./stringtie_bam_files/C34_stringtie.bam\n",
            "ENSMUSG00000077223\t19\t56265950\t56266077\t-\t128\t0\t0\t0\t0\t0\t0\t0\t0\t0\t0\n",
            "ENSMUSG00000044387\t19;19\t23112264;23112723\t23112318;23113081\t+;+\t414\t0\t0\t0\t0\t3\t0\t0\t0\t0\t0\n",
            "ENSMUSG00000033863\t19;19;19;19\t23118590;23121008;23142047;23142047\t23119623;23121336;23145498;23142835\t+;+;+;+\t4815\t46\t60\t188\t448\t4377\t54\t88\t85\t188\t2934\n",
            "ENSMUSG00000080626\t19\t23126795\t23126915\t+\t121\t0\t0\t0\t0\t3\t0\t0\t0\t0\t1\n",
            "ENSMUSG00000006456\t19;19;19;19;19;19;19\t4850597;4850950;4851805;4852579;4861200;4861200;4861200\t4851833;4854043;4851833;4854043;4861613;4861662;4861540\t-;-;-;-;-;-;-\t3910\t740\t826\t651\t474\t298\t468\t673\t508\t520\t310\n",
            "ENSMUSG00000095913\t19;19;19;19\t4851540;4854588;4854862;4855619\t4851888;4854659;4854909;4855812\t+;+;+;+\t663\t15\t10\t8\t12\t5\t16\t7\t9\t5\t8\n",
            "ENSMUSG00000025075\t19;19;19;19;19;19;19;19;19;19;19;19;19;19;19;19;19;19;19;19;19;19;19;19;19;19;19;19;19;19;19;19;19;19;19;19;19;19;19;19;19;19;19;19;19;19;19;19;19;19;19;19;19;19;19;19;19;19;19;19;19;19;19;19;19;19\t56275569;56276344;56276354;56276368;56276428;56276428;56286447;56286447;56286447;56286447;56286447;56295205;56295205;56295205;56295205;56297269;56297269;56297269;56297269;56297269;56298453;56298453;56298453;56298453;56298453;56299534;56299534;56299534;56299534;56299534;56300103;56300103;56300103;56300103;56300210;56300246;56301301;56301301;56301301;56301301;56301301;56301380;56302407;56302407;56302407;56302407;56302422;56303659;56303659;56303659;56303659;56303659;56304715;56304715;56304715;56304715;56304715;56304715;56306159;56306159;56306159;56306159;56307903;56307903;56307903;56307903\t56275679;56276484;56276484;56276484;56276484;56276484;56286483;56286483;56286483;56286483;56286483;56295315;56295315;56295315;56295315;56297376;56297376;56297376;56297376;56297376;56298569;56298569;56298569;56298569;56298569;56299653;56299653;56299653;56299653;56299653;56300274;56300274;56300274;56300274;56300420;56300274;56301398;56301398;56301398;56301398;56301398;56301398;56302662;56302662;56302662;56302662;56302662;56303801;56303801;56303801;56303801;56303801;56304849;56304849;56304849;56304727;56304849;56304849;56306304;56306304;56306304;56306304;56308061;56308067;56309254;56308521\t+;+;+;+;+;+;+;+;+;+;+;+;+;+;+;+;+;+;+;+;+;+;+;+;+;+;+;+;+;+;+;+;+;+;+;+;+;+;+;+;+;+;+;+;+;+;+;+;+;+;+;+;+;+;+;+;+;+;+;+;+;+;+;+;+;+\t3193\t1\t4\t8\t1\t0\t1\t0\t5\t4\t0\n",
            "ENSMUSG00000034108\t19;19;19;19;19;19;19;19;19;19;19;19;19;19;19;19;19;19;19;19;19;19;19;19;19;19;19;19;19;19;19;19;19;19;19;19;19;19;19;19;19;19;19;19;19;19;19;19;19;19;19;19;19\t4875394;4875394;4875394;4875394;4875438;4875445;4875575;4875623;4875798;4875798;4875798;4875798;4875798;4875798;4875798;4875798;4875972;4875972;4875972;4875972;4875972;4875972;4875972;4882861;4882861;4882861;4882861;4882861;4882861;4883369;4883369;4883369;4883369;4883369;4884201;4884201;4884222;4884268;4884268;4888502;4888859;4888859;4888859;4888859;4888859;4888859;4889225;4889225;4889225;4889225;4889225;4889225;4889225\t4875692;4875692;4875692;4875692;4875692;4875692;4875692;4875692;4875901;4875901;4875901;4875901;4875901;4875901;4875901;4876037;4876337;4876049;4876049;4876049;4876049;4876049;4876049;4882921;4882921;4882921;4882921;4882921;4882921;4883546;4883546;4883546;4883475;4883546;4884338;4884338;4884338;4884338;4884338;4888931;4888931;4888931;4888931;4888931;4888931;4888931;4889314;4889247;4889282;4889315;4889360;4889301;4889298\t-;-;-;-;-;-;-;-;-;-;-;-;-;-;-;-;-;-;-;-;-;-;-;-;-;-;-;-;-;-;-;-;-;-;-;-;-;-;-;-;-;-;-;-;-;-;-;-;-;-;-;-;-\t1782\t195\t167\t180\t162\t144\t191\t191\t226\t176\t203\n"
          ]
        }
      ],
      "source": [
        "!head counts.txt"
      ]
    },
    {
      "cell_type": "code",
      "execution_count": 34,
      "metadata": {
        "id": "rXp54vSdjLH9"
      },
      "outputs": [],
      "source": [
        "!cut -f1,7,8,9,10,11,12,13,14,15,16 counts.txt > counts_drop.txt #remove columns we don't need"
      ]
    },
    {
      "cell_type": "code",
      "execution_count": 35,
      "metadata": {
        "id": "22OjUH-lhCzP",
        "colab": {
          "base_uri": "https://localhost:8080/"
        },
        "outputId": "b1494fab-4b46-4ba2-ea69-4516a6220bea"
      },
      "outputs": [
        {
          "output_type": "stream",
          "name": "stdout",
          "text": [
            "# Program:featureCounts v2.0.1; Command:\"featureCounts\" \"-a\" \"./genome-annotation/chr19.gtf\" \"-o\" \"counts.txt\" \"./stringtie_bam_files/B14.5_stringtie.bam\" \"./stringtie_bam_files/B15.5_stringtie.bam\" \"./stringtie_bam_files/B17.5_stringtie.bam\" \"./stringtie_bam_files/B20_stringtie.bam\" \"./stringtie_bam_files/B34_stringtie.bam\" \"./stringtie_bam_files/C14.5_stringtie.bam\" \"./stringtie_bam_files/C15.5_stringtie.bam\" \"./stringtie_bam_files/C17.5_stringtie.bam\" \"./stringtie_bam_files/C20_stringtie.bam\" \"./stringtie_bam_files/C34_stringtie.bam\" \n",
            "Geneid\t./stringtie_bam_files/B14.5_stringtie.bam\t./stringtie_bam_files/B15.5_stringtie.bam\t./stringtie_bam_files/B17.5_stringtie.bam\t./stringtie_bam_files/B20_stringtie.bam\t./stringtie_bam_files/B34_stringtie.bam\t./stringtie_bam_files/C14.5_stringtie.bam\t./stringtie_bam_files/C15.5_stringtie.bam\t./stringtie_bam_files/C17.5_stringtie.bam\t./stringtie_bam_files/C20_stringtie.bam\t./stringtie_bam_files/C34_stringtie.bam\n",
            "ENSMUSG00000077223\t0\t0\t0\t0\t0\t0\t0\t0\t0\t0\n",
            "ENSMUSG00000044387\t0\t0\t0\t0\t3\t0\t0\t0\t0\t0\n",
            "ENSMUSG00000033863\t46\t60\t188\t448\t4377\t54\t88\t85\t188\t2934\n",
            "ENSMUSG00000080626\t0\t0\t0\t0\t3\t0\t0\t0\t0\t1\n",
            "ENSMUSG00000006456\t740\t826\t651\t474\t298\t468\t673\t508\t520\t310\n",
            "ENSMUSG00000095913\t15\t10\t8\t12\t5\t16\t7\t9\t5\t8\n",
            "ENSMUSG00000025075\t1\t4\t8\t1\t0\t1\t0\t5\t4\t0\n",
            "ENSMUSG00000034108\t195\t167\t180\t162\t144\t191\t191\t226\t176\t203\n"
          ]
        }
      ],
      "source": [
        "!head counts_drop.txt"
      ]
    },
    {
      "cell_type": "code",
      "execution_count": 36,
      "metadata": {
        "id": "ZN_ZlFhOhHcc"
      },
      "outputs": [],
      "source": [
        "!echo \"$(tail -n +2 counts_drop.txt)\" > counts_forpca.txt #remove table header"
      ]
    },
    {
      "cell_type": "code",
      "execution_count": 37,
      "metadata": {
        "id": "0UE8bdZxmKha",
        "colab": {
          "base_uri": "https://localhost:8080/"
        },
        "outputId": "77906733-92c7-40e5-bac0-bc240a444de4"
      },
      "outputs": [
        {
          "output_type": "stream",
          "name": "stdout",
          "text": [
            "Geneid\t./stringtie_bam_files/B14.5_stringtie.bam\t./stringtie_bam_files/B15.5_stringtie.bam\t./stringtie_bam_files/B17.5_stringtie.bam\t./stringtie_bam_files/B20_stringtie.bam\t./stringtie_bam_files/B34_stringtie.bam\t./stringtie_bam_files/C14.5_stringtie.bam\t./stringtie_bam_files/C15.5_stringtie.bam\t./stringtie_bam_files/C17.5_stringtie.bam\t./stringtie_bam_files/C20_stringtie.bam\t./stringtie_bam_files/C34_stringtie.bam\n",
            "ENSMUSG00000077223\t0\t0\t0\t0\t0\t0\t0\t0\t0\t0\n",
            "ENSMUSG00000044387\t0\t0\t0\t0\t3\t0\t0\t0\t0\t0\n",
            "ENSMUSG00000033863\t46\t60\t188\t448\t4377\t54\t88\t85\t188\t2934\n",
            "ENSMUSG00000080626\t0\t0\t0\t0\t3\t0\t0\t0\t0\t1\n",
            "ENSMUSG00000006456\t740\t826\t651\t474\t298\t468\t673\t508\t520\t310\n",
            "ENSMUSG00000095913\t15\t10\t8\t12\t5\t16\t7\t9\t5\t8\n",
            "ENSMUSG00000025075\t1\t4\t8\t1\t0\t1\t0\t5\t4\t0\n",
            "ENSMUSG00000034108\t195\t167\t180\t162\t144\t191\t191\t226\t176\t203\n",
            "ENSMUSG00000067872\t9\t10\t16\t27\t43\t12\t12\t19\t30\t4\n"
          ]
        }
      ],
      "source": [
        "!head counts_forpca.txt"
      ]
    },
    {
      "cell_type": "code",
      "execution_count": 38,
      "metadata": {
        "id": "7o5Ys4W6mNLU",
        "colab": {
          "base_uri": "https://localhost:8080/",
          "height": 424
        },
        "outputId": "57ffaf69-a97a-450e-bdf5-fda7632c40ab"
      },
      "outputs": [
        {
          "output_type": "execute_result",
          "data": {
            "text/plain": [
              "                    B14.5  B15.5  B17.5  B20   B34  C14.5  C15.5  C17.5  C20  \\\n",
              "ENSMUSG00000077223      0      0      0    0     0      0      0      0    0   \n",
              "ENSMUSG00000044387      0      0      0    0     3      0      0      0    0   \n",
              "ENSMUSG00000033863     46     60    188  448  4377     54     88     85  188   \n",
              "ENSMUSG00000080626      0      0      0    0     3      0      0      0    0   \n",
              "ENSMUSG00000006456    740    826    651  474   298    468    673    508  520   \n",
              "...                   ...    ...    ...  ...   ...    ...    ...    ...  ...   \n",
              "ENSMUSG00000121027      6      3      4    6     0      3      3      2    4   \n",
              "ENSMUSG00000087579      2      4      3    4    10      3      0      0    3   \n",
              "ENSMUSG00000108414    536    374    234  264    86    380    279    213  248   \n",
              "ENSMUSG00000097787     29     21     22   42    25     40     40     24   45   \n",
              "ENSMUSG00000121055      0      0      0    0     0      0      0      0    0   \n",
              "\n",
              "                     C34  \n",
              "ENSMUSG00000077223     0  \n",
              "ENSMUSG00000044387     0  \n",
              "ENSMUSG00000033863  2934  \n",
              "ENSMUSG00000080626     1  \n",
              "ENSMUSG00000006456   310  \n",
              "...                  ...  \n",
              "ENSMUSG00000121027     2  \n",
              "ENSMUSG00000087579     3  \n",
              "ENSMUSG00000108414   207  \n",
              "ENSMUSG00000097787    21  \n",
              "ENSMUSG00000121055     0  \n",
              "\n",
              "[1452 rows x 10 columns]"
            ],
            "text/html": [
              "\n",
              "  <div id=\"df-4d44f6e8-ecd0-4ecf-816f-d9089352d33b\">\n",
              "    <div class=\"colab-df-container\">\n",
              "      <div>\n",
              "<style scoped>\n",
              "    .dataframe tbody tr th:only-of-type {\n",
              "        vertical-align: middle;\n",
              "    }\n",
              "\n",
              "    .dataframe tbody tr th {\n",
              "        vertical-align: top;\n",
              "    }\n",
              "\n",
              "    .dataframe thead th {\n",
              "        text-align: right;\n",
              "    }\n",
              "</style>\n",
              "<table border=\"1\" class=\"dataframe\">\n",
              "  <thead>\n",
              "    <tr style=\"text-align: right;\">\n",
              "      <th></th>\n",
              "      <th>B14.5</th>\n",
              "      <th>B15.5</th>\n",
              "      <th>B17.5</th>\n",
              "      <th>B20</th>\n",
              "      <th>B34</th>\n",
              "      <th>C14.5</th>\n",
              "      <th>C15.5</th>\n",
              "      <th>C17.5</th>\n",
              "      <th>C20</th>\n",
              "      <th>C34</th>\n",
              "    </tr>\n",
              "  </thead>\n",
              "  <tbody>\n",
              "    <tr>\n",
              "      <th>ENSMUSG00000077223</th>\n",
              "      <td>0</td>\n",
              "      <td>0</td>\n",
              "      <td>0</td>\n",
              "      <td>0</td>\n",
              "      <td>0</td>\n",
              "      <td>0</td>\n",
              "      <td>0</td>\n",
              "      <td>0</td>\n",
              "      <td>0</td>\n",
              "      <td>0</td>\n",
              "    </tr>\n",
              "    <tr>\n",
              "      <th>ENSMUSG00000044387</th>\n",
              "      <td>0</td>\n",
              "      <td>0</td>\n",
              "      <td>0</td>\n",
              "      <td>0</td>\n",
              "      <td>3</td>\n",
              "      <td>0</td>\n",
              "      <td>0</td>\n",
              "      <td>0</td>\n",
              "      <td>0</td>\n",
              "      <td>0</td>\n",
              "    </tr>\n",
              "    <tr>\n",
              "      <th>ENSMUSG00000033863</th>\n",
              "      <td>46</td>\n",
              "      <td>60</td>\n",
              "      <td>188</td>\n",
              "      <td>448</td>\n",
              "      <td>4377</td>\n",
              "      <td>54</td>\n",
              "      <td>88</td>\n",
              "      <td>85</td>\n",
              "      <td>188</td>\n",
              "      <td>2934</td>\n",
              "    </tr>\n",
              "    <tr>\n",
              "      <th>ENSMUSG00000080626</th>\n",
              "      <td>0</td>\n",
              "      <td>0</td>\n",
              "      <td>0</td>\n",
              "      <td>0</td>\n",
              "      <td>3</td>\n",
              "      <td>0</td>\n",
              "      <td>0</td>\n",
              "      <td>0</td>\n",
              "      <td>0</td>\n",
              "      <td>1</td>\n",
              "    </tr>\n",
              "    <tr>\n",
              "      <th>ENSMUSG00000006456</th>\n",
              "      <td>740</td>\n",
              "      <td>826</td>\n",
              "      <td>651</td>\n",
              "      <td>474</td>\n",
              "      <td>298</td>\n",
              "      <td>468</td>\n",
              "      <td>673</td>\n",
              "      <td>508</td>\n",
              "      <td>520</td>\n",
              "      <td>310</td>\n",
              "    </tr>\n",
              "    <tr>\n",
              "      <th>...</th>\n",
              "      <td>...</td>\n",
              "      <td>...</td>\n",
              "      <td>...</td>\n",
              "      <td>...</td>\n",
              "      <td>...</td>\n",
              "      <td>...</td>\n",
              "      <td>...</td>\n",
              "      <td>...</td>\n",
              "      <td>...</td>\n",
              "      <td>...</td>\n",
              "    </tr>\n",
              "    <tr>\n",
              "      <th>ENSMUSG00000121027</th>\n",
              "      <td>6</td>\n",
              "      <td>3</td>\n",
              "      <td>4</td>\n",
              "      <td>6</td>\n",
              "      <td>0</td>\n",
              "      <td>3</td>\n",
              "      <td>3</td>\n",
              "      <td>2</td>\n",
              "      <td>4</td>\n",
              "      <td>2</td>\n",
              "    </tr>\n",
              "    <tr>\n",
              "      <th>ENSMUSG00000087579</th>\n",
              "      <td>2</td>\n",
              "      <td>4</td>\n",
              "      <td>3</td>\n",
              "      <td>4</td>\n",
              "      <td>10</td>\n",
              "      <td>3</td>\n",
              "      <td>0</td>\n",
              "      <td>0</td>\n",
              "      <td>3</td>\n",
              "      <td>3</td>\n",
              "    </tr>\n",
              "    <tr>\n",
              "      <th>ENSMUSG00000108414</th>\n",
              "      <td>536</td>\n",
              "      <td>374</td>\n",
              "      <td>234</td>\n",
              "      <td>264</td>\n",
              "      <td>86</td>\n",
              "      <td>380</td>\n",
              "      <td>279</td>\n",
              "      <td>213</td>\n",
              "      <td>248</td>\n",
              "      <td>207</td>\n",
              "    </tr>\n",
              "    <tr>\n",
              "      <th>ENSMUSG00000097787</th>\n",
              "      <td>29</td>\n",
              "      <td>21</td>\n",
              "      <td>22</td>\n",
              "      <td>42</td>\n",
              "      <td>25</td>\n",
              "      <td>40</td>\n",
              "      <td>40</td>\n",
              "      <td>24</td>\n",
              "      <td>45</td>\n",
              "      <td>21</td>\n",
              "    </tr>\n",
              "    <tr>\n",
              "      <th>ENSMUSG00000121055</th>\n",
              "      <td>0</td>\n",
              "      <td>0</td>\n",
              "      <td>0</td>\n",
              "      <td>0</td>\n",
              "      <td>0</td>\n",
              "      <td>0</td>\n",
              "      <td>0</td>\n",
              "      <td>0</td>\n",
              "      <td>0</td>\n",
              "      <td>0</td>\n",
              "    </tr>\n",
              "  </tbody>\n",
              "</table>\n",
              "<p>1452 rows × 10 columns</p>\n",
              "</div>\n",
              "      <button class=\"colab-df-convert\" onclick=\"convertToInteractive('df-4d44f6e8-ecd0-4ecf-816f-d9089352d33b')\"\n",
              "              title=\"Convert this dataframe to an interactive table.\"\n",
              "              style=\"display:none;\">\n",
              "        \n",
              "  <svg xmlns=\"http://www.w3.org/2000/svg\" height=\"24px\"viewBox=\"0 0 24 24\"\n",
              "       width=\"24px\">\n",
              "    <path d=\"M0 0h24v24H0V0z\" fill=\"none\"/>\n",
              "    <path d=\"M18.56 5.44l.94 2.06.94-2.06 2.06-.94-2.06-.94-.94-2.06-.94 2.06-2.06.94zm-11 1L8.5 8.5l.94-2.06 2.06-.94-2.06-.94L8.5 2.5l-.94 2.06-2.06.94zm10 10l.94 2.06.94-2.06 2.06-.94-2.06-.94-.94-2.06-.94 2.06-2.06.94z\"/><path d=\"M17.41 7.96l-1.37-1.37c-.4-.4-.92-.59-1.43-.59-.52 0-1.04.2-1.43.59L10.3 9.45l-7.72 7.72c-.78.78-.78 2.05 0 2.83L4 21.41c.39.39.9.59 1.41.59.51 0 1.02-.2 1.41-.59l7.78-7.78 2.81-2.81c.8-.78.8-2.07 0-2.86zM5.41 20L4 18.59l7.72-7.72 1.47 1.35L5.41 20z\"/>\n",
              "  </svg>\n",
              "      </button>\n",
              "      \n",
              "  <style>\n",
              "    .colab-df-container {\n",
              "      display:flex;\n",
              "      flex-wrap:wrap;\n",
              "      gap: 12px;\n",
              "    }\n",
              "\n",
              "    .colab-df-convert {\n",
              "      background-color: #E8F0FE;\n",
              "      border: none;\n",
              "      border-radius: 50%;\n",
              "      cursor: pointer;\n",
              "      display: none;\n",
              "      fill: #1967D2;\n",
              "      height: 32px;\n",
              "      padding: 0 0 0 0;\n",
              "      width: 32px;\n",
              "    }\n",
              "\n",
              "    .colab-df-convert:hover {\n",
              "      background-color: #E2EBFA;\n",
              "      box-shadow: 0px 1px 2px rgba(60, 64, 67, 0.3), 0px 1px 3px 1px rgba(60, 64, 67, 0.15);\n",
              "      fill: #174EA6;\n",
              "    }\n",
              "\n",
              "    [theme=dark] .colab-df-convert {\n",
              "      background-color: #3B4455;\n",
              "      fill: #D2E3FC;\n",
              "    }\n",
              "\n",
              "    [theme=dark] .colab-df-convert:hover {\n",
              "      background-color: #434B5C;\n",
              "      box-shadow: 0px 1px 3px 1px rgba(0, 0, 0, 0.15);\n",
              "      filter: drop-shadow(0px 1px 2px rgba(0, 0, 0, 0.3));\n",
              "      fill: #FFFFFF;\n",
              "    }\n",
              "  </style>\n",
              "\n",
              "      <script>\n",
              "        const buttonEl =\n",
              "          document.querySelector('#df-4d44f6e8-ecd0-4ecf-816f-d9089352d33b button.colab-df-convert');\n",
              "        buttonEl.style.display =\n",
              "          google.colab.kernel.accessAllowed ? 'block' : 'none';\n",
              "\n",
              "        async function convertToInteractive(key) {\n",
              "          const element = document.querySelector('#df-4d44f6e8-ecd0-4ecf-816f-d9089352d33b');\n",
              "          const dataTable =\n",
              "            await google.colab.kernel.invokeFunction('convertToInteractive',\n",
              "                                                     [key], {});\n",
              "          if (!dataTable) return;\n",
              "\n",
              "          const docLinkHtml = 'Like what you see? Visit the ' +\n",
              "            '<a target=\"_blank\" href=https://colab.research.google.com/notebooks/data_table.ipynb>data table notebook</a>'\n",
              "            + ' to learn more about interactive tables.';\n",
              "          element.innerHTML = '';\n",
              "          dataTable['output_type'] = 'display_data';\n",
              "          await google.colab.output.renderOutput(dataTable, element);\n",
              "          const docLink = document.createElement('div');\n",
              "          docLink.innerHTML = docLinkHtml;\n",
              "          element.appendChild(docLink);\n",
              "        }\n",
              "      </script>\n",
              "    </div>\n",
              "  </div>\n",
              "  "
            ]
          },
          "metadata": {},
          "execution_count": 38
        }
      ],
      "source": [
        "import pandas as pd\n",
        "data = pd.read_csv('counts_forpca.txt', sep = '\\t').set_index('Geneid')\n",
        "data.index.name = None\n",
        "data.columns = ['B14.5', 'B15.5', 'B17.5', 'B20', 'B34', 'C14.5', 'C15.5', 'C17.5', 'C20', 'C34']\n",
        "data"
      ]
    },
    {
      "cell_type": "code",
      "execution_count": 39,
      "metadata": {
        "id": "I_GtSByDV4bm",
        "colab": {
          "base_uri": "https://localhost:8080/",
          "height": 456
        },
        "outputId": "386ed4f5-527a-46d8-c8ba-4fe0309fd37c"
      },
      "outputs": [
        {
          "output_type": "execute_result",
          "data": {
            "text/plain": [
              "       ENSMUSG00000077223  ENSMUSG00000044387  ENSMUSG00000033863  \\\n",
              "B14.5                   0                   0                  46   \n",
              "B15.5                   0                   0                  60   \n",
              "B17.5                   0                   0                 188   \n",
              "B20                     0                   0                 448   \n",
              "B34                     0                   3                4377   \n",
              "C14.5                   0                   0                  54   \n",
              "C15.5                   0                   0                  88   \n",
              "C17.5                   0                   0                  85   \n",
              "C20                     0                   0                 188   \n",
              "C34                     0                   0                2934   \n",
              "\n",
              "       ENSMUSG00000080626  ENSMUSG00000006456  ENSMUSG00000095913  \\\n",
              "B14.5                   0                 740                  15   \n",
              "B15.5                   0                 826                  10   \n",
              "B17.5                   0                 651                   8   \n",
              "B20                     0                 474                  12   \n",
              "B34                     3                 298                   5   \n",
              "C14.5                   0                 468                  16   \n",
              "C15.5                   0                 673                   7   \n",
              "C17.5                   0                 508                   9   \n",
              "C20                     0                 520                   5   \n",
              "C34                     1                 310                   8   \n",
              "\n",
              "       ENSMUSG00000025075  ENSMUSG00000034108  ENSMUSG00000067872  \\\n",
              "B14.5                   1                 195                   9   \n",
              "B15.5                   4                 167                  10   \n",
              "B17.5                   8                 180                  16   \n",
              "B20                     1                 162                  27   \n",
              "B34                     0                 144                  43   \n",
              "C14.5                   1                 191                  12   \n",
              "C15.5                   0                 191                  12   \n",
              "C17.5                   5                 226                  19   \n",
              "C20                     4                 176                  30   \n",
              "C34                     0                 203                   4   \n",
              "\n",
              "       ENSMUSG00000083282  ...  ENSMUSG00000097779  ENSMUSG00000110156  \\\n",
              "B14.5                 276  ...                   0                  26   \n",
              "B15.5                 357  ...                   1                  14   \n",
              "B17.5                 418  ...                   0                  20   \n",
              "B20                   445  ...                   0                  27   \n",
              "B34                   698  ...                   0                  45   \n",
              "C14.5                 448  ...                   0                  17   \n",
              "C15.5                 478  ...                   0                  17   \n",
              "C17.5                 572  ...                   0                  26   \n",
              "C20                   609  ...                   0                  38   \n",
              "C34                  1262  ...                   0                  44   \n",
              "\n",
              "       ENSMUSG00000121016  ENSMUSG00000118100  ENSMUSG00000067577  \\\n",
              "B14.5                   1                  11                   2   \n",
              "B15.5                   4                   5                   0   \n",
              "B17.5                   2                   4                   1   \n",
              "B20                     1                   3                   0   \n",
              "B34                     1                   2                   0   \n",
              "C14.5                   0                  15                   6   \n",
              "C15.5                   2                   7                   2   \n",
              "C17.5                   6                   4                   3   \n",
              "C20                     1                  10                   6   \n",
              "C34                     5                   3                   0   \n",
              "\n",
              "       ENSMUSG00000121027  ENSMUSG00000087579  ENSMUSG00000108414  \\\n",
              "B14.5                   6                   2                 536   \n",
              "B15.5                   3                   4                 374   \n",
              "B17.5                   4                   3                 234   \n",
              "B20                     6                   4                 264   \n",
              "B34                     0                  10                  86   \n",
              "C14.5                   3                   3                 380   \n",
              "C15.5                   3                   0                 279   \n",
              "C17.5                   2                   0                 213   \n",
              "C20                     4                   3                 248   \n",
              "C34                     2                   3                 207   \n",
              "\n",
              "       ENSMUSG00000097787  ENSMUSG00000121055  \n",
              "B14.5                  29                   0  \n",
              "B15.5                  21                   0  \n",
              "B17.5                  22                   0  \n",
              "B20                    42                   0  \n",
              "B34                    25                   0  \n",
              "C14.5                  40                   0  \n",
              "C15.5                  40                   0  \n",
              "C17.5                  24                   0  \n",
              "C20                    45                   0  \n",
              "C34                    21                   0  \n",
              "\n",
              "[10 rows x 1452 columns]"
            ],
            "text/html": [
              "\n",
              "  <div id=\"df-e5c53283-2750-4e6c-8e6b-89dcdf5e7d07\">\n",
              "    <div class=\"colab-df-container\">\n",
              "      <div>\n",
              "<style scoped>\n",
              "    .dataframe tbody tr th:only-of-type {\n",
              "        vertical-align: middle;\n",
              "    }\n",
              "\n",
              "    .dataframe tbody tr th {\n",
              "        vertical-align: top;\n",
              "    }\n",
              "\n",
              "    .dataframe thead th {\n",
              "        text-align: right;\n",
              "    }\n",
              "</style>\n",
              "<table border=\"1\" class=\"dataframe\">\n",
              "  <thead>\n",
              "    <tr style=\"text-align: right;\">\n",
              "      <th></th>\n",
              "      <th>ENSMUSG00000077223</th>\n",
              "      <th>ENSMUSG00000044387</th>\n",
              "      <th>ENSMUSG00000033863</th>\n",
              "      <th>ENSMUSG00000080626</th>\n",
              "      <th>ENSMUSG00000006456</th>\n",
              "      <th>ENSMUSG00000095913</th>\n",
              "      <th>ENSMUSG00000025075</th>\n",
              "      <th>ENSMUSG00000034108</th>\n",
              "      <th>ENSMUSG00000067872</th>\n",
              "      <th>ENSMUSG00000083282</th>\n",
              "      <th>...</th>\n",
              "      <th>ENSMUSG00000097779</th>\n",
              "      <th>ENSMUSG00000110156</th>\n",
              "      <th>ENSMUSG00000121016</th>\n",
              "      <th>ENSMUSG00000118100</th>\n",
              "      <th>ENSMUSG00000067577</th>\n",
              "      <th>ENSMUSG00000121027</th>\n",
              "      <th>ENSMUSG00000087579</th>\n",
              "      <th>ENSMUSG00000108414</th>\n",
              "      <th>ENSMUSG00000097787</th>\n",
              "      <th>ENSMUSG00000121055</th>\n",
              "    </tr>\n",
              "  </thead>\n",
              "  <tbody>\n",
              "    <tr>\n",
              "      <th>B14.5</th>\n",
              "      <td>0</td>\n",
              "      <td>0</td>\n",
              "      <td>46</td>\n",
              "      <td>0</td>\n",
              "      <td>740</td>\n",
              "      <td>15</td>\n",
              "      <td>1</td>\n",
              "      <td>195</td>\n",
              "      <td>9</td>\n",
              "      <td>276</td>\n",
              "      <td>...</td>\n",
              "      <td>0</td>\n",
              "      <td>26</td>\n",
              "      <td>1</td>\n",
              "      <td>11</td>\n",
              "      <td>2</td>\n",
              "      <td>6</td>\n",
              "      <td>2</td>\n",
              "      <td>536</td>\n",
              "      <td>29</td>\n",
              "      <td>0</td>\n",
              "    </tr>\n",
              "    <tr>\n",
              "      <th>B15.5</th>\n",
              "      <td>0</td>\n",
              "      <td>0</td>\n",
              "      <td>60</td>\n",
              "      <td>0</td>\n",
              "      <td>826</td>\n",
              "      <td>10</td>\n",
              "      <td>4</td>\n",
              "      <td>167</td>\n",
              "      <td>10</td>\n",
              "      <td>357</td>\n",
              "      <td>...</td>\n",
              "      <td>1</td>\n",
              "      <td>14</td>\n",
              "      <td>4</td>\n",
              "      <td>5</td>\n",
              "      <td>0</td>\n",
              "      <td>3</td>\n",
              "      <td>4</td>\n",
              "      <td>374</td>\n",
              "      <td>21</td>\n",
              "      <td>0</td>\n",
              "    </tr>\n",
              "    <tr>\n",
              "      <th>B17.5</th>\n",
              "      <td>0</td>\n",
              "      <td>0</td>\n",
              "      <td>188</td>\n",
              "      <td>0</td>\n",
              "      <td>651</td>\n",
              "      <td>8</td>\n",
              "      <td>8</td>\n",
              "      <td>180</td>\n",
              "      <td>16</td>\n",
              "      <td>418</td>\n",
              "      <td>...</td>\n",
              "      <td>0</td>\n",
              "      <td>20</td>\n",
              "      <td>2</td>\n",
              "      <td>4</td>\n",
              "      <td>1</td>\n",
              "      <td>4</td>\n",
              "      <td>3</td>\n",
              "      <td>234</td>\n",
              "      <td>22</td>\n",
              "      <td>0</td>\n",
              "    </tr>\n",
              "    <tr>\n",
              "      <th>B20</th>\n",
              "      <td>0</td>\n",
              "      <td>0</td>\n",
              "      <td>448</td>\n",
              "      <td>0</td>\n",
              "      <td>474</td>\n",
              "      <td>12</td>\n",
              "      <td>1</td>\n",
              "      <td>162</td>\n",
              "      <td>27</td>\n",
              "      <td>445</td>\n",
              "      <td>...</td>\n",
              "      <td>0</td>\n",
              "      <td>27</td>\n",
              "      <td>1</td>\n",
              "      <td>3</td>\n",
              "      <td>0</td>\n",
              "      <td>6</td>\n",
              "      <td>4</td>\n",
              "      <td>264</td>\n",
              "      <td>42</td>\n",
              "      <td>0</td>\n",
              "    </tr>\n",
              "    <tr>\n",
              "      <th>B34</th>\n",
              "      <td>0</td>\n",
              "      <td>3</td>\n",
              "      <td>4377</td>\n",
              "      <td>3</td>\n",
              "      <td>298</td>\n",
              "      <td>5</td>\n",
              "      <td>0</td>\n",
              "      <td>144</td>\n",
              "      <td>43</td>\n",
              "      <td>698</td>\n",
              "      <td>...</td>\n",
              "      <td>0</td>\n",
              "      <td>45</td>\n",
              "      <td>1</td>\n",
              "      <td>2</td>\n",
              "      <td>0</td>\n",
              "      <td>0</td>\n",
              "      <td>10</td>\n",
              "      <td>86</td>\n",
              "      <td>25</td>\n",
              "      <td>0</td>\n",
              "    </tr>\n",
              "    <tr>\n",
              "      <th>C14.5</th>\n",
              "      <td>0</td>\n",
              "      <td>0</td>\n",
              "      <td>54</td>\n",
              "      <td>0</td>\n",
              "      <td>468</td>\n",
              "      <td>16</td>\n",
              "      <td>1</td>\n",
              "      <td>191</td>\n",
              "      <td>12</td>\n",
              "      <td>448</td>\n",
              "      <td>...</td>\n",
              "      <td>0</td>\n",
              "      <td>17</td>\n",
              "      <td>0</td>\n",
              "      <td>15</td>\n",
              "      <td>6</td>\n",
              "      <td>3</td>\n",
              "      <td>3</td>\n",
              "      <td>380</td>\n",
              "      <td>40</td>\n",
              "      <td>0</td>\n",
              "    </tr>\n",
              "    <tr>\n",
              "      <th>C15.5</th>\n",
              "      <td>0</td>\n",
              "      <td>0</td>\n",
              "      <td>88</td>\n",
              "      <td>0</td>\n",
              "      <td>673</td>\n",
              "      <td>7</td>\n",
              "      <td>0</td>\n",
              "      <td>191</td>\n",
              "      <td>12</td>\n",
              "      <td>478</td>\n",
              "      <td>...</td>\n",
              "      <td>0</td>\n",
              "      <td>17</td>\n",
              "      <td>2</td>\n",
              "      <td>7</td>\n",
              "      <td>2</td>\n",
              "      <td>3</td>\n",
              "      <td>0</td>\n",
              "      <td>279</td>\n",
              "      <td>40</td>\n",
              "      <td>0</td>\n",
              "    </tr>\n",
              "    <tr>\n",
              "      <th>C17.5</th>\n",
              "      <td>0</td>\n",
              "      <td>0</td>\n",
              "      <td>85</td>\n",
              "      <td>0</td>\n",
              "      <td>508</td>\n",
              "      <td>9</td>\n",
              "      <td>5</td>\n",
              "      <td>226</td>\n",
              "      <td>19</td>\n",
              "      <td>572</td>\n",
              "      <td>...</td>\n",
              "      <td>0</td>\n",
              "      <td>26</td>\n",
              "      <td>6</td>\n",
              "      <td>4</td>\n",
              "      <td>3</td>\n",
              "      <td>2</td>\n",
              "      <td>0</td>\n",
              "      <td>213</td>\n",
              "      <td>24</td>\n",
              "      <td>0</td>\n",
              "    </tr>\n",
              "    <tr>\n",
              "      <th>C20</th>\n",
              "      <td>0</td>\n",
              "      <td>0</td>\n",
              "      <td>188</td>\n",
              "      <td>0</td>\n",
              "      <td>520</td>\n",
              "      <td>5</td>\n",
              "      <td>4</td>\n",
              "      <td>176</td>\n",
              "      <td>30</td>\n",
              "      <td>609</td>\n",
              "      <td>...</td>\n",
              "      <td>0</td>\n",
              "      <td>38</td>\n",
              "      <td>1</td>\n",
              "      <td>10</td>\n",
              "      <td>6</td>\n",
              "      <td>4</td>\n",
              "      <td>3</td>\n",
              "      <td>248</td>\n",
              "      <td>45</td>\n",
              "      <td>0</td>\n",
              "    </tr>\n",
              "    <tr>\n",
              "      <th>C34</th>\n",
              "      <td>0</td>\n",
              "      <td>0</td>\n",
              "      <td>2934</td>\n",
              "      <td>1</td>\n",
              "      <td>310</td>\n",
              "      <td>8</td>\n",
              "      <td>0</td>\n",
              "      <td>203</td>\n",
              "      <td>4</td>\n",
              "      <td>1262</td>\n",
              "      <td>...</td>\n",
              "      <td>0</td>\n",
              "      <td>44</td>\n",
              "      <td>5</td>\n",
              "      <td>3</td>\n",
              "      <td>0</td>\n",
              "      <td>2</td>\n",
              "      <td>3</td>\n",
              "      <td>207</td>\n",
              "      <td>21</td>\n",
              "      <td>0</td>\n",
              "    </tr>\n",
              "  </tbody>\n",
              "</table>\n",
              "<p>10 rows × 1452 columns</p>\n",
              "</div>\n",
              "      <button class=\"colab-df-convert\" onclick=\"convertToInteractive('df-e5c53283-2750-4e6c-8e6b-89dcdf5e7d07')\"\n",
              "              title=\"Convert this dataframe to an interactive table.\"\n",
              "              style=\"display:none;\">\n",
              "        \n",
              "  <svg xmlns=\"http://www.w3.org/2000/svg\" height=\"24px\"viewBox=\"0 0 24 24\"\n",
              "       width=\"24px\">\n",
              "    <path d=\"M0 0h24v24H0V0z\" fill=\"none\"/>\n",
              "    <path d=\"M18.56 5.44l.94 2.06.94-2.06 2.06-.94-2.06-.94-.94-2.06-.94 2.06-2.06.94zm-11 1L8.5 8.5l.94-2.06 2.06-.94-2.06-.94L8.5 2.5l-.94 2.06-2.06.94zm10 10l.94 2.06.94-2.06 2.06-.94-2.06-.94-.94-2.06-.94 2.06-2.06.94z\"/><path d=\"M17.41 7.96l-1.37-1.37c-.4-.4-.92-.59-1.43-.59-.52 0-1.04.2-1.43.59L10.3 9.45l-7.72 7.72c-.78.78-.78 2.05 0 2.83L4 21.41c.39.39.9.59 1.41.59.51 0 1.02-.2 1.41-.59l7.78-7.78 2.81-2.81c.8-.78.8-2.07 0-2.86zM5.41 20L4 18.59l7.72-7.72 1.47 1.35L5.41 20z\"/>\n",
              "  </svg>\n",
              "      </button>\n",
              "      \n",
              "  <style>\n",
              "    .colab-df-container {\n",
              "      display:flex;\n",
              "      flex-wrap:wrap;\n",
              "      gap: 12px;\n",
              "    }\n",
              "\n",
              "    .colab-df-convert {\n",
              "      background-color: #E8F0FE;\n",
              "      border: none;\n",
              "      border-radius: 50%;\n",
              "      cursor: pointer;\n",
              "      display: none;\n",
              "      fill: #1967D2;\n",
              "      height: 32px;\n",
              "      padding: 0 0 0 0;\n",
              "      width: 32px;\n",
              "    }\n",
              "\n",
              "    .colab-df-convert:hover {\n",
              "      background-color: #E2EBFA;\n",
              "      box-shadow: 0px 1px 2px rgba(60, 64, 67, 0.3), 0px 1px 3px 1px rgba(60, 64, 67, 0.15);\n",
              "      fill: #174EA6;\n",
              "    }\n",
              "\n",
              "    [theme=dark] .colab-df-convert {\n",
              "      background-color: #3B4455;\n",
              "      fill: #D2E3FC;\n",
              "    }\n",
              "\n",
              "    [theme=dark] .colab-df-convert:hover {\n",
              "      background-color: #434B5C;\n",
              "      box-shadow: 0px 1px 3px 1px rgba(0, 0, 0, 0.15);\n",
              "      filter: drop-shadow(0px 1px 2px rgba(0, 0, 0, 0.3));\n",
              "      fill: #FFFFFF;\n",
              "    }\n",
              "  </style>\n",
              "\n",
              "      <script>\n",
              "        const buttonEl =\n",
              "          document.querySelector('#df-e5c53283-2750-4e6c-8e6b-89dcdf5e7d07 button.colab-df-convert');\n",
              "        buttonEl.style.display =\n",
              "          google.colab.kernel.accessAllowed ? 'block' : 'none';\n",
              "\n",
              "        async function convertToInteractive(key) {\n",
              "          const element = document.querySelector('#df-e5c53283-2750-4e6c-8e6b-89dcdf5e7d07');\n",
              "          const dataTable =\n",
              "            await google.colab.kernel.invokeFunction('convertToInteractive',\n",
              "                                                     [key], {});\n",
              "          if (!dataTable) return;\n",
              "\n",
              "          const docLinkHtml = 'Like what you see? Visit the ' +\n",
              "            '<a target=\"_blank\" href=https://colab.research.google.com/notebooks/data_table.ipynb>data table notebook</a>'\n",
              "            + ' to learn more about interactive tables.';\n",
              "          element.innerHTML = '';\n",
              "          dataTable['output_type'] = 'display_data';\n",
              "          await google.colab.output.renderOutput(dataTable, element);\n",
              "          const docLink = document.createElement('div');\n",
              "          docLink.innerHTML = docLinkHtml;\n",
              "          element.appendChild(docLink);\n",
              "        }\n",
              "      </script>\n",
              "    </div>\n",
              "  </div>\n",
              "  "
            ]
          },
          "metadata": {},
          "execution_count": 39
        }
      ],
      "source": [
        "data_tr = data.transpose() #get transposed matrix for PCA\n",
        "data_tr"
      ]
    },
    {
      "cell_type": "code",
      "execution_count": 43,
      "metadata": {
        "id": "zS5uXXzjxz3A",
        "colab": {
          "base_uri": "https://localhost:8080/",
          "height": 542
        },
        "outputId": "babcd9a5-a90d-4dd7-8ace-3b9ff1198528"
      },
      "outputs": [
        {
          "output_type": "display_data",
          "data": {
            "text/html": [
              "<html>\n",
              "<head><meta charset=\"utf-8\" /></head>\n",
              "<body>\n",
              "    <div>            <script src=\"https://cdnjs.cloudflare.com/ajax/libs/mathjax/2.7.5/MathJax.js?config=TeX-AMS-MML_SVG\"></script><script type=\"text/javascript\">if (window.MathJax) {MathJax.Hub.Config({SVG: {font: \"STIX-Web\"}});}</script>                <script type=\"text/javascript\">window.PlotlyConfig = {MathJaxConfig: 'local'};</script>\n",
              "        <script src=\"https://cdn.plot.ly/plotly-2.8.3.min.js\"></script>                <div id=\"e9576e1a-c1ad-483f-91dc-ce83e722f590\" class=\"plotly-graph-div\" style=\"height:525px; width:100%;\"></div>            <script type=\"text/javascript\">                                    window.PLOTLYENV=window.PLOTLYENV || {};                                    if (document.getElementById(\"e9576e1a-c1ad-483f-91dc-ce83e722f590\")) {                    Plotly.newPlot(                        \"e9576e1a-c1ad-483f-91dc-ce83e722f590\",                        [{\"dimensions\":[{\"axis\":{\"matches\":true},\"label\":\"PC 1 (58.9%)\",\"values\":[-8719.705690961822]},{\"axis\":{\"matches\":true},\"label\":\"PC 2 (17.8%)\",\"values\":[5979.073030806589]},{\"axis\":{\"matches\":true},\"label\":\"PC 3 (11.0%)\",\"values\":[-4180.731443601996]}],\"hovertemplate\":\"color=B14.5<br>%{xaxis.title.text}=%{x}<br>%{yaxis.title.text}=%{y}<extra></extra>\",\"legendgroup\":\"B14.5\",\"marker\":{\"color\":\"#636efa\",\"symbol\":\"circle\"},\"name\":\"B14.5\",\"showlegend\":true,\"type\":\"splom\",\"diagonal\":{\"visible\":false}},{\"dimensions\":[{\"axis\":{\"matches\":true},\"label\":\"PC 1 (58.9%)\",\"values\":[-7198.035259712839]},{\"axis\":{\"matches\":true},\"label\":\"PC 2 (17.8%)\",\"values\":[2928.919824258201]},{\"axis\":{\"matches\":true},\"label\":\"PC 3 (11.0%)\",\"values\":[-2157.7454829547582]}],\"hovertemplate\":\"color=B15.5<br>%{xaxis.title.text}=%{x}<br>%{yaxis.title.text}=%{y}<extra></extra>\",\"legendgroup\":\"B15.5\",\"marker\":{\"color\":\"#EF553B\",\"symbol\":\"circle\"},\"name\":\"B15.5\",\"showlegend\":true,\"type\":\"splom\",\"diagonal\":{\"visible\":false}},{\"dimensions\":[{\"axis\":{\"matches\":true},\"label\":\"PC 1 (58.9%)\",\"values\":[-3780.1023743904952]},{\"axis\":{\"matches\":true},\"label\":\"PC 2 (17.8%)\",\"values\":[1004.5725067561264]},{\"axis\":{\"matches\":true},\"label\":\"PC 3 (11.0%)\",\"values\":[-1603.1768507979032]}],\"hovertemplate\":\"color=B17.5<br>%{xaxis.title.text}=%{x}<br>%{yaxis.title.text}=%{y}<extra></extra>\",\"legendgroup\":\"B17.5\",\"marker\":{\"color\":\"#00cc96\",\"symbol\":\"circle\"},\"name\":\"B17.5\",\"showlegend\":true,\"type\":\"splom\",\"diagonal\":{\"visible\":false}},{\"dimensions\":[{\"axis\":{\"matches\":true},\"label\":\"PC 1 (58.9%)\",\"values\":[27.66673329816657]},{\"axis\":{\"matches\":true},\"label\":\"PC 2 (17.8%)\",\"values\":[-3034.0995147034505]},{\"axis\":{\"matches\":true},\"label\":\"PC 3 (11.0%)\",\"values\":[-3993.537639085024]}],\"hovertemplate\":\"color=B20<br>%{xaxis.title.text}=%{x}<br>%{yaxis.title.text}=%{y}<extra></extra>\",\"legendgroup\":\"B20\",\"marker\":{\"color\":\"#ab63fa\",\"symbol\":\"circle\"},\"name\":\"B20\",\"showlegend\":true,\"type\":\"splom\",\"diagonal\":{\"visible\":false}},{\"dimensions\":[{\"axis\":{\"matches\":true},\"label\":\"PC 1 (58.9%)\",\"values\":[16312.835087519985]},{\"axis\":{\"matches\":true},\"label\":\"PC 2 (17.8%)\",\"values\":[-7894.037602245145]},{\"axis\":{\"matches\":true},\"label\":\"PC 3 (11.0%)\",\"values\":[-6253.6580929114525]}],\"hovertemplate\":\"color=B34<br>%{xaxis.title.text}=%{x}<br>%{yaxis.title.text}=%{y}<extra></extra>\",\"legendgroup\":\"B34\",\"marker\":{\"color\":\"#FFA15A\",\"symbol\":\"circle\"},\"name\":\"B34\",\"showlegend\":true,\"type\":\"splom\",\"diagonal\":{\"visible\":false}},{\"dimensions\":[{\"axis\":{\"matches\":true},\"label\":\"PC 1 (58.9%)\",\"values\":[-7244.858122921498]},{\"axis\":{\"matches\":true},\"label\":\"PC 2 (17.8%)\",\"values\":[2757.026931783876]},{\"axis\":{\"matches\":true},\"label\":\"PC 3 (11.0%)\",\"values\":[-184.02859627667993]}],\"hovertemplate\":\"color=C14.5<br>%{xaxis.title.text}=%{x}<br>%{yaxis.title.text}=%{y}<extra></extra>\",\"legendgroup\":\"C14.5\",\"marker\":{\"color\":\"#19d3f3\",\"symbol\":\"circle\"},\"name\":\"C14.5\",\"showlegend\":true,\"type\":\"splom\",\"diagonal\":{\"visible\":false}},{\"dimensions\":[{\"axis\":{\"matches\":true},\"label\":\"PC 1 (58.9%)\",\"values\":[-5574.5143557408965]},{\"axis\":{\"matches\":true},\"label\":\"PC 2 (17.8%)\",\"values\":[147.94404744652124]},{\"axis\":{\"matches\":true},\"label\":\"PC 3 (11.0%)\",\"values\":[2489.4423492047167]}],\"hovertemplate\":\"color=C15.5<br>%{xaxis.title.text}=%{x}<br>%{yaxis.title.text}=%{y}<extra></extra>\",\"legendgroup\":\"C15.5\",\"marker\":{\"color\":\"#FF6692\",\"symbol\":\"circle\"},\"name\":\"C15.5\",\"showlegend\":true,\"type\":\"splom\",\"diagonal\":{\"visible\":false}},{\"dimensions\":[{\"axis\":{\"matches\":true},\"label\":\"PC 1 (58.9%)\",\"values\":[-4897.616057403154]},{\"axis\":{\"matches\":true},\"label\":\"PC 2 (17.8%)\",\"values\":[-7135.55435821308]},{\"axis\":{\"matches\":true},\"label\":\"PC 3 (11.0%)\",\"values\":[7105.462566922534]}],\"hovertemplate\":\"color=C17.5<br>%{xaxis.title.text}=%{x}<br>%{yaxis.title.text}=%{y}<extra></extra>\",\"legendgroup\":\"C17.5\",\"marker\":{\"color\":\"#B6E880\",\"symbol\":\"circle\"},\"name\":\"C17.5\",\"showlegend\":true,\"type\":\"splom\",\"diagonal\":{\"visible\":false}},{\"dimensions\":[{\"axis\":{\"matches\":true},\"label\":\"PC 1 (58.9%)\",\"values\":[602.0620690974218]},{\"axis\":{\"matches\":true},\"label\":\"PC 2 (17.8%)\",\"values\":[-4243.779641124225]},{\"axis\":{\"matches\":true},\"label\":\"PC 3 (11.0%)\",\"values\":[4442.9377508037005]}],\"hovertemplate\":\"color=C20<br>%{xaxis.title.text}=%{x}<br>%{yaxis.title.text}=%{y}<extra></extra>\",\"legendgroup\":\"C20\",\"marker\":{\"color\":\"#FF97FF\",\"symbol\":\"circle\"},\"name\":\"C20\",\"showlegend\":true,\"type\":\"splom\",\"diagonal\":{\"visible\":false}},{\"dimensions\":[{\"axis\":{\"matches\":true},\"label\":\"PC 1 (58.9%)\",\"values\":[20472.267971215126]},{\"axis\":{\"matches\":true},\"label\":\"PC 2 (17.8%)\",\"values\":[9489.934775234578]},{\"axis\":{\"matches\":true},\"label\":\"PC 3 (11.0%)\",\"values\":[4335.0354386968565]}],\"hovertemplate\":\"color=C34<br>%{xaxis.title.text}=%{x}<br>%{yaxis.title.text}=%{y}<extra></extra>\",\"legendgroup\":\"C34\",\"marker\":{\"color\":\"#FECB52\",\"symbol\":\"circle\"},\"name\":\"C34\",\"showlegend\":true,\"type\":\"splom\",\"diagonal\":{\"visible\":false}}],                        {\"template\":{\"data\":{\"bar\":[{\"error_x\":{\"color\":\"#2a3f5f\"},\"error_y\":{\"color\":\"#2a3f5f\"},\"marker\":{\"line\":{\"color\":\"#E5ECF6\",\"width\":0.5},\"pattern\":{\"fillmode\":\"overlay\",\"size\":10,\"solidity\":0.2}},\"type\":\"bar\"}],\"barpolar\":[{\"marker\":{\"line\":{\"color\":\"#E5ECF6\",\"width\":0.5},\"pattern\":{\"fillmode\":\"overlay\",\"size\":10,\"solidity\":0.2}},\"type\":\"barpolar\"}],\"carpet\":[{\"aaxis\":{\"endlinecolor\":\"#2a3f5f\",\"gridcolor\":\"white\",\"linecolor\":\"white\",\"minorgridcolor\":\"white\",\"startlinecolor\":\"#2a3f5f\"},\"baxis\":{\"endlinecolor\":\"#2a3f5f\",\"gridcolor\":\"white\",\"linecolor\":\"white\",\"minorgridcolor\":\"white\",\"startlinecolor\":\"#2a3f5f\"},\"type\":\"carpet\"}],\"choropleth\":[{\"colorbar\":{\"outlinewidth\":0,\"ticks\":\"\"},\"type\":\"choropleth\"}],\"contour\":[{\"colorbar\":{\"outlinewidth\":0,\"ticks\":\"\"},\"colorscale\":[[0.0,\"#0d0887\"],[0.1111111111111111,\"#46039f\"],[0.2222222222222222,\"#7201a8\"],[0.3333333333333333,\"#9c179e\"],[0.4444444444444444,\"#bd3786\"],[0.5555555555555556,\"#d8576b\"],[0.6666666666666666,\"#ed7953\"],[0.7777777777777778,\"#fb9f3a\"],[0.8888888888888888,\"#fdca26\"],[1.0,\"#f0f921\"]],\"type\":\"contour\"}],\"contourcarpet\":[{\"colorbar\":{\"outlinewidth\":0,\"ticks\":\"\"},\"type\":\"contourcarpet\"}],\"heatmap\":[{\"colorbar\":{\"outlinewidth\":0,\"ticks\":\"\"},\"colorscale\":[[0.0,\"#0d0887\"],[0.1111111111111111,\"#46039f\"],[0.2222222222222222,\"#7201a8\"],[0.3333333333333333,\"#9c179e\"],[0.4444444444444444,\"#bd3786\"],[0.5555555555555556,\"#d8576b\"],[0.6666666666666666,\"#ed7953\"],[0.7777777777777778,\"#fb9f3a\"],[0.8888888888888888,\"#fdca26\"],[1.0,\"#f0f921\"]],\"type\":\"heatmap\"}],\"heatmapgl\":[{\"colorbar\":{\"outlinewidth\":0,\"ticks\":\"\"},\"colorscale\":[[0.0,\"#0d0887\"],[0.1111111111111111,\"#46039f\"],[0.2222222222222222,\"#7201a8\"],[0.3333333333333333,\"#9c179e\"],[0.4444444444444444,\"#bd3786\"],[0.5555555555555556,\"#d8576b\"],[0.6666666666666666,\"#ed7953\"],[0.7777777777777778,\"#fb9f3a\"],[0.8888888888888888,\"#fdca26\"],[1.0,\"#f0f921\"]],\"type\":\"heatmapgl\"}],\"histogram\":[{\"marker\":{\"pattern\":{\"fillmode\":\"overlay\",\"size\":10,\"solidity\":0.2}},\"type\":\"histogram\"}],\"histogram2d\":[{\"colorbar\":{\"outlinewidth\":0,\"ticks\":\"\"},\"colorscale\":[[0.0,\"#0d0887\"],[0.1111111111111111,\"#46039f\"],[0.2222222222222222,\"#7201a8\"],[0.3333333333333333,\"#9c179e\"],[0.4444444444444444,\"#bd3786\"],[0.5555555555555556,\"#d8576b\"],[0.6666666666666666,\"#ed7953\"],[0.7777777777777778,\"#fb9f3a\"],[0.8888888888888888,\"#fdca26\"],[1.0,\"#f0f921\"]],\"type\":\"histogram2d\"}],\"histogram2dcontour\":[{\"colorbar\":{\"outlinewidth\":0,\"ticks\":\"\"},\"colorscale\":[[0.0,\"#0d0887\"],[0.1111111111111111,\"#46039f\"],[0.2222222222222222,\"#7201a8\"],[0.3333333333333333,\"#9c179e\"],[0.4444444444444444,\"#bd3786\"],[0.5555555555555556,\"#d8576b\"],[0.6666666666666666,\"#ed7953\"],[0.7777777777777778,\"#fb9f3a\"],[0.8888888888888888,\"#fdca26\"],[1.0,\"#f0f921\"]],\"type\":\"histogram2dcontour\"}],\"mesh3d\":[{\"colorbar\":{\"outlinewidth\":0,\"ticks\":\"\"},\"type\":\"mesh3d\"}],\"parcoords\":[{\"line\":{\"colorbar\":{\"outlinewidth\":0,\"ticks\":\"\"}},\"type\":\"parcoords\"}],\"pie\":[{\"automargin\":true,\"type\":\"pie\"}],\"scatter\":[{\"marker\":{\"colorbar\":{\"outlinewidth\":0,\"ticks\":\"\"}},\"type\":\"scatter\"}],\"scatter3d\":[{\"line\":{\"colorbar\":{\"outlinewidth\":0,\"ticks\":\"\"}},\"marker\":{\"colorbar\":{\"outlinewidth\":0,\"ticks\":\"\"}},\"type\":\"scatter3d\"}],\"scattercarpet\":[{\"marker\":{\"colorbar\":{\"outlinewidth\":0,\"ticks\":\"\"}},\"type\":\"scattercarpet\"}],\"scattergeo\":[{\"marker\":{\"colorbar\":{\"outlinewidth\":0,\"ticks\":\"\"}},\"type\":\"scattergeo\"}],\"scattergl\":[{\"marker\":{\"colorbar\":{\"outlinewidth\":0,\"ticks\":\"\"}},\"type\":\"scattergl\"}],\"scattermapbox\":[{\"marker\":{\"colorbar\":{\"outlinewidth\":0,\"ticks\":\"\"}},\"type\":\"scattermapbox\"}],\"scatterpolar\":[{\"marker\":{\"colorbar\":{\"outlinewidth\":0,\"ticks\":\"\"}},\"type\":\"scatterpolar\"}],\"scatterpolargl\":[{\"marker\":{\"colorbar\":{\"outlinewidth\":0,\"ticks\":\"\"}},\"type\":\"scatterpolargl\"}],\"scatterternary\":[{\"marker\":{\"colorbar\":{\"outlinewidth\":0,\"ticks\":\"\"}},\"type\":\"scatterternary\"}],\"surface\":[{\"colorbar\":{\"outlinewidth\":0,\"ticks\":\"\"},\"colorscale\":[[0.0,\"#0d0887\"],[0.1111111111111111,\"#46039f\"],[0.2222222222222222,\"#7201a8\"],[0.3333333333333333,\"#9c179e\"],[0.4444444444444444,\"#bd3786\"],[0.5555555555555556,\"#d8576b\"],[0.6666666666666666,\"#ed7953\"],[0.7777777777777778,\"#fb9f3a\"],[0.8888888888888888,\"#fdca26\"],[1.0,\"#f0f921\"]],\"type\":\"surface\"}],\"table\":[{\"cells\":{\"fill\":{\"color\":\"#EBF0F8\"},\"line\":{\"color\":\"white\"}},\"header\":{\"fill\":{\"color\":\"#C8D4E3\"},\"line\":{\"color\":\"white\"}},\"type\":\"table\"}]},\"layout\":{\"annotationdefaults\":{\"arrowcolor\":\"#2a3f5f\",\"arrowhead\":0,\"arrowwidth\":1},\"autotypenumbers\":\"strict\",\"coloraxis\":{\"colorbar\":{\"outlinewidth\":0,\"ticks\":\"\"}},\"colorscale\":{\"diverging\":[[0,\"#8e0152\"],[0.1,\"#c51b7d\"],[0.2,\"#de77ae\"],[0.3,\"#f1b6da\"],[0.4,\"#fde0ef\"],[0.5,\"#f7f7f7\"],[0.6,\"#e6f5d0\"],[0.7,\"#b8e186\"],[0.8,\"#7fbc41\"],[0.9,\"#4d9221\"],[1,\"#276419\"]],\"sequential\":[[0.0,\"#0d0887\"],[0.1111111111111111,\"#46039f\"],[0.2222222222222222,\"#7201a8\"],[0.3333333333333333,\"#9c179e\"],[0.4444444444444444,\"#bd3786\"],[0.5555555555555556,\"#d8576b\"],[0.6666666666666666,\"#ed7953\"],[0.7777777777777778,\"#fb9f3a\"],[0.8888888888888888,\"#fdca26\"],[1.0,\"#f0f921\"]],\"sequentialminus\":[[0.0,\"#0d0887\"],[0.1111111111111111,\"#46039f\"],[0.2222222222222222,\"#7201a8\"],[0.3333333333333333,\"#9c179e\"],[0.4444444444444444,\"#bd3786\"],[0.5555555555555556,\"#d8576b\"],[0.6666666666666666,\"#ed7953\"],[0.7777777777777778,\"#fb9f3a\"],[0.8888888888888888,\"#fdca26\"],[1.0,\"#f0f921\"]]},\"colorway\":[\"#636efa\",\"#EF553B\",\"#00cc96\",\"#ab63fa\",\"#FFA15A\",\"#19d3f3\",\"#FF6692\",\"#B6E880\",\"#FF97FF\",\"#FECB52\"],\"font\":{\"color\":\"#2a3f5f\"},\"geo\":{\"bgcolor\":\"white\",\"lakecolor\":\"white\",\"landcolor\":\"#E5ECF6\",\"showlakes\":true,\"showland\":true,\"subunitcolor\":\"white\"},\"hoverlabel\":{\"align\":\"left\"},\"hovermode\":\"closest\",\"mapbox\":{\"style\":\"light\"},\"paper_bgcolor\":\"white\",\"plot_bgcolor\":\"#E5ECF6\",\"polar\":{\"angularaxis\":{\"gridcolor\":\"white\",\"linecolor\":\"white\",\"ticks\":\"\"},\"bgcolor\":\"#E5ECF6\",\"radialaxis\":{\"gridcolor\":\"white\",\"linecolor\":\"white\",\"ticks\":\"\"}},\"scene\":{\"xaxis\":{\"backgroundcolor\":\"#E5ECF6\",\"gridcolor\":\"white\",\"gridwidth\":2,\"linecolor\":\"white\",\"showbackground\":true,\"ticks\":\"\",\"zerolinecolor\":\"white\"},\"yaxis\":{\"backgroundcolor\":\"#E5ECF6\",\"gridcolor\":\"white\",\"gridwidth\":2,\"linecolor\":\"white\",\"showbackground\":true,\"ticks\":\"\",\"zerolinecolor\":\"white\"},\"zaxis\":{\"backgroundcolor\":\"#E5ECF6\",\"gridcolor\":\"white\",\"gridwidth\":2,\"linecolor\":\"white\",\"showbackground\":true,\"ticks\":\"\",\"zerolinecolor\":\"white\"}},\"shapedefaults\":{\"line\":{\"color\":\"#2a3f5f\"}},\"ternary\":{\"aaxis\":{\"gridcolor\":\"white\",\"linecolor\":\"white\",\"ticks\":\"\"},\"baxis\":{\"gridcolor\":\"white\",\"linecolor\":\"white\",\"ticks\":\"\"},\"bgcolor\":\"#E5ECF6\",\"caxis\":{\"gridcolor\":\"white\",\"linecolor\":\"white\",\"ticks\":\"\"}},\"title\":{\"x\":0.05},\"xaxis\":{\"automargin\":true,\"gridcolor\":\"white\",\"linecolor\":\"white\",\"ticks\":\"\",\"title\":{\"standoff\":15},\"zerolinecolor\":\"white\",\"zerolinewidth\":2},\"yaxis\":{\"automargin\":true,\"gridcolor\":\"white\",\"linecolor\":\"white\",\"ticks\":\"\",\"title\":{\"standoff\":15},\"zerolinecolor\":\"white\",\"zerolinewidth\":2}}},\"legend\":{\"title\":{\"text\":\"color\"},\"tracegroupgap\":0},\"margin\":{\"t\":60},\"dragmode\":\"select\"},                        {\"responsive\": true}                    ).then(function(){\n",
              "                            \n",
              "var gd = document.getElementById('e9576e1a-c1ad-483f-91dc-ce83e722f590');\n",
              "var x = new MutationObserver(function (mutations, observer) {{\n",
              "        var display = window.getComputedStyle(gd).display;\n",
              "        if (!display || display === 'none') {{\n",
              "            console.log([gd, 'removed!']);\n",
              "            Plotly.purge(gd);\n",
              "            observer.disconnect();\n",
              "        }}\n",
              "}});\n",
              "\n",
              "// Listen for the removal of the full notebook cells\n",
              "var notebookContainer = gd.closest('#notebook-container');\n",
              "if (notebookContainer) {{\n",
              "    x.observe(notebookContainer, {childList: true});\n",
              "}}\n",
              "\n",
              "// Listen for the clearing of the current output cell\n",
              "var outputEl = gd.closest('.output');\n",
              "if (outputEl) {{\n",
              "    x.observe(outputEl, {childList: true});\n",
              "}}\n",
              "\n",
              "                        })                };                            </script>        </div>\n",
              "</body>\n",
              "</html>"
            ]
          },
          "metadata": {}
        }
      ],
      "source": [
        "import matplotlib.pyplot as plt\n",
        "import plotly.express as px\n",
        "from sklearn.decomposition import PCA\n",
        "\n",
        "features = data_tr.columns #features for PCA are genes\n",
        "pca = PCA()\n",
        "components = pca.fit_transform(data_tr[features])\n",
        "\n",
        "labels = {str(i): f\"PC {i+1} ({var:.1f}%)\" #name labels and ratio\n",
        "    for i, var in enumerate(pca.explained_variance_ratio_ * 100)}\n",
        "\n",
        "\n",
        "fig = px.scatter_matrix(components,labels=labels, \n",
        "                        dimensions=range(3), color = data_tr.index)\n",
        "title = 'PCA Scatter Matrix'\n",
        "fig.update_traces(diagonal_visible=False)\n",
        "fig.show()"
      ]
    },
    {
      "cell_type": "code",
      "execution_count": 41,
      "metadata": {
        "id": "2_HnikrB3TP2",
        "colab": {
          "base_uri": "https://localhost:8080/",
          "height": 466
        },
        "outputId": "9885026a-9996-432f-b19e-2a3647c8afb6"
      },
      "outputs": [
        {
          "output_type": "execute_result",
          "data": {
            "text/plain": [
              "[Text(0.5, 0, 'B14.5'),\n",
              " Text(1.5, 0, 'B15.5'),\n",
              " Text(2.5, 0, 'B17.5'),\n",
              " Text(3.5, 0, 'B20'),\n",
              " Text(4.5, 0, 'B34'),\n",
              " Text(5.5, 0, 'C14.5'),\n",
              " Text(6.5, 0, 'C15.5'),\n",
              " Text(7.5, 0, 'C17.5'),\n",
              " Text(8.5, 0, 'C20'),\n",
              " Text(9.5, 0, 'C34')]"
            ]
          },
          "metadata": {},
          "execution_count": 41
        },
        {
          "output_type": "display_data",
          "data": {
            "text/plain": [
              "<Figure size 432x288 with 2 Axes>"
            ],
            "image/png": "[encoded data removed]"
          },
          "metadata": {
            "needs_background": "light"
          }
        }
      ],
      "source": [
        "import seaborn as sns\n",
        "corr = data.corr(method='spearman')\n",
        "ax = sns.heatmap(corr)\n",
        "ax.set_xticklabels(\n",
        "    ax.get_xticklabels(),\n",
        "    rotation=45,\n",
        "    horizontalalignment='right')"
      ]
    }
  ],
  "metadata": {
    "colab": {
      "collapsed_sections": [],
      "provenance": []
    },
    "kernelspec": {
      "display_name": "Python 3",
      "name": "python3"
    },
    "language_info": {
      "name": "python"
    }
  },
  "nbformat": 4,
  "nbformat_minor": 0
}