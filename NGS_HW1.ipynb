{
  "nbformat": 4,
  "nbformat_minor": 0,
  "metadata": {
    "colab": {
      "provenance": [],
      "collapsed_sections": []
    },
    "kernelspec": {
      "name": "python3",
      "display_name": "Python 3"
    },
    "language_info": {
      "name": "python"
    }
  },
  "cells": [
    {
      "cell_type": "code",
      "execution_count": null,
      "metadata": {
        "colab": {
          "base_uri": "https://localhost:8080/"
        },
        "id": "ErWAUiQCTaxo",
        "outputId": "993d2c70-c84c-4b39-a8d6-5c92082f17c7"
      },
      "outputs": [
        {
          "output_type": "stream",
          "name": "stdout",
          "text": [
            "/content\n"
          ]
        }
      ],
      "source": [
        "!pwd"
      ]
    },
    {
      "cell_type": "code",
      "source": [
        "from google.colab import drive"
      ],
      "metadata": {
        "id": "r2k4w2SrUfNB"
      },
      "execution_count": null,
      "outputs": []
    },
    {
      "cell_type": "code",
      "source": [
        "drive.mount('/content/drive')"
      ],
      "metadata": {
        "colab": {
          "base_uri": "https://localhost:8080/"
        },
        "id": "IfdAjXjrUlgJ",
        "outputId": "2d093870-79a5-4ce7-dcef-10626604ed23"
      },
      "execution_count": null,
      "outputs": [
        {
          "output_type": "stream",
          "name": "stdout",
          "text": [
            "Mounted at /content/drive\n"
          ]
        }
      ]
    },
    {
      "cell_type": "code",
      "source": [
        "!pip install -q condacolab\n",
        "import condacolab\n",
        "condacolab.install()"
      ],
      "metadata": {
        "colab": {
          "base_uri": "https://localhost:8080/"
        },
        "id": "eEIdqjJbWOwt",
        "outputId": "06b63513-aa26-4a89-b8b1-d7df7bd453f6"
      },
      "execution_count": null,
      "outputs": [
        {
          "output_type": "stream",
          "name": "stdout",
          "text": [
            "⏬ Downloading https://github.com/jaimergp/miniforge/releases/latest/download/Mambaforge-colab-Linux-x86_64.sh...\n",
            "📦 Installing...\n",
            "📌 Adjusting configuration...\n",
            "🩹 Patching environment...\n",
            "⏲ Done in 0:00:26\n",
            "🔁 Restarting kernel...\n"
          ]
        }
      ]
    },
    {
      "cell_type": "markdown",
      "source": [
        "Установка необходимых пакетов"
      ],
      "metadata": {
        "id": "U9a-U8cLh88M"
      }
    },
    {
      "cell_type": "code",
      "source": [
        "! conda install -y -c bioconda fastqc"
      ],
      "metadata": {
        "id": "4UuGE5R0XNGd"
      },
      "execution_count": null,
      "outputs": []
    },
    {
      "cell_type": "code",
      "source": [
        "!conda install -c bioconda samtools"
      ],
      "metadata": {
        "id": "C2YOyldm1sms"
      },
      "execution_count": null,
      "outputs": []
    },
    {
      "cell_type": "code",
      "source": [
        "! conda install -y -c bioconda hisat2"
      ],
      "metadata": {
        "id": "SJU1bKikblY5"
      },
      "execution_count": null,
      "outputs": []
    },
    {
      "cell_type": "code",
      "source": [
        "!ls drive/MyDrive/ngs_rna-seq_data"
      ],
      "metadata": {
        "colab": {
          "base_uri": "https://localhost:8080/"
        },
        "id": "ck4tDQKZUqwm",
        "outputId": "c322fbaa-80b8-4632-a214-17120a82dc8a"
      },
      "execution_count": null,
      "outputs": [
        {
          "output_type": "stream",
          "name": "stdout",
          "text": [
            "B14.5.fq.gz  B17.5.fq.gz  B34.fq.gz    C15.5.fq.gz  C20.fq.gz\n",
            "B15.5.fq.gz  B20.fq.gz\t  C14.5.fq.gz  C17.5.fq.gz  C34.fq.gz\n"
          ]
        }
      ]
    },
    {
      "cell_type": "markdown",
      "source": [
        "Загрузка файлов с Ensembl"
      ],
      "metadata": {
        "id": "H0DW2OjMiCOU"
      }
    },
    {
      "cell_type": "code",
      "source": [
        "!wget http://ftp.ensembl.org/pub/release-107/fasta/mus_musculus/dna/Mus_musculus.GRCm39.dna.chromosome.19.fa.gz\n",
        "#19 chromosome sequence"
      ],
      "metadata": {
        "id": "AC7GWRvxV9qS"
      },
      "execution_count": null,
      "outputs": []
    },
    {
      "cell_type": "code",
      "source": [
        "!wget http://ftp.ensembl.org/pub/release-107/gtf/mus_musculus/Mus_musculus.GRCm39.107.chr.gtf.gz\n",
        "#annotation"
      ],
      "metadata": {
        "id": "Z_Tu60LKdbE4"
      },
      "execution_count": null,
      "outputs": []
    },
    {
      "cell_type": "code",
      "source": [
        "!mkdir genome-annotation\n",
        "!mv Mus_musculus.GRCm39.107.chr.gtf.gz genome-annotation\n",
        "!mv Mus_musculus.GRCm39.dna.chromosome.19.fa.gz genome-annotation\n",
        "!gunzip ./genome-annotation/*"
      ],
      "metadata": {
        "id": "vPj7mqk5p7Bu"
      },
      "execution_count": null,
      "outputs": []
    },
    {
      "cell_type": "markdown",
      "source": [
        "Анализ входных ридов в FastQC"
      ],
      "metadata": {
        "id": "O_DDm0ytiIFj"
      }
    },
    {
      "cell_type": "code",
      "source": [
        "! mkdir fastqc-reports"
      ],
      "metadata": {
        "id": "0AUbOLx7Xtek"
      },
      "execution_count": null,
      "outputs": []
    },
    {
      "cell_type": "code",
      "source": [
        "!fastqc -o fastqc-reports drive/MyDrive/ngs_rna-seq_data/*"
      ],
      "metadata": {
        "id": "FCE6sWJlX6bn"
      },
      "execution_count": null,
      "outputs": []
    },
    {
      "cell_type": "code",
      "source": [
        "! conda install -c bioconda -c conda-forge multiqc"
      ],
      "metadata": {
        "id": "G8dAUnOdaMU_"
      },
      "execution_count": null,
      "outputs": []
    },
    {
      "cell_type": "code",
      "source": [
        "!multiqc fastqc-reports/"
      ],
      "metadata": {
        "colab": {
          "base_uri": "https://localhost:8080/"
        },
        "id": "8n4_M3wwbLQv",
        "outputId": "a55a5d38-ee3d-44b8-f18e-bdd7bba3ba72"
      },
      "execution_count": null,
      "outputs": [
        {
          "output_type": "stream",
          "name": "stdout",
          "text": [
            "\n",
            "  \u001b[34m/\u001b[0m\u001b[32m/\u001b[0m\u001b[31m/\u001b[0m \u001b]8;id=616436;https://multiqc.info\u001b\\\u001b[1mMultiQC\u001b[0m\u001b]8;;\u001b\\ 🔍 \u001b[2m| v1.13\u001b[0m\n",
            "\n",
            "\u001b[34m|           multiqc\u001b[0m | Search path : /content/fastqc-reports\n",
            "\u001b[2K\u001b[34m|\u001b[0m         \u001b[34msearching\u001b[0m | \u001b[90m━━━━━━━━━━━━━━━━━━━━━━━━━━━━━━━━━━━━━━━━\u001b[0m \u001b[35m100%\u001b[0m \u001b[32m20/20\u001b[0m  \n",
            "\u001b[?25h\u001b[34m|            fastqc\u001b[0m | Found 10 reports\n",
            "\u001b[34m|           multiqc\u001b[0m | Compressing plot data\n",
            "\u001b[34m|           multiqc\u001b[0m | Report      : multiqc_report.html\n",
            "\u001b[34m|           multiqc\u001b[0m | Data        : multiqc_data\n",
            "\u001b[34m|           multiqc\u001b[0m | MultiQC complete\n"
          ]
        }
      ]
    },
    {
      "cell_type": "markdown",
      "source": [
        "Не требовалась обработка ридов после анализа в FastQC. Сразу перешла к картированию."
      ],
      "metadata": {
        "id": "mAgJCqfKgv8Z"
      }
    },
    {
      "cell_type": "code",
      "source": [
        "%cd ./genome-annotation"
      ],
      "metadata": {
        "colab": {
          "base_uri": "https://localhost:8080/"
        },
        "id": "JKL2oo42tyed",
        "outputId": "fcb163f4-3529-4295-b0f8-e3ff24713b8b"
      },
      "execution_count": null,
      "outputs": [
        {
          "output_type": "stream",
          "name": "stdout",
          "text": [
            "/content/genome-annotation\n"
          ]
        }
      ]
    },
    {
      "cell_type": "code",
      "source": [
        "!grep -P '^19\\t' Mus_musculus.GRCm39.107.chr.gtf > chr19.gtf\n",
        "#filtering only 19 chromosome from annotation file"
      ],
      "metadata": {
        "id": "qzXSEV-5tCv1"
      },
      "execution_count": null,
      "outputs": []
    },
    {
      "cell_type": "code",
      "source": [
        "#using function to extract exons and splice sites coordinates\n",
        "!hisat2_extract_splice_sites.py chr19.gtf > chr19.splicesites  \n",
        "!hisat2_extract_exons.py chr19.gtf > chr19.exons"
      ],
      "metadata": {
        "id": "YxwhaS3Nt6qF"
      },
      "execution_count": null,
      "outputs": []
    },
    {
      "cell_type": "markdown",
      "source": [
        "Построение индекса по последовательности 19ой хромосомы (сразу с координатами сайтов)"
      ],
      "metadata": {
        "id": "L_sFD3JGhu1o"
      }
    },
    {
      "cell_type": "code",
      "source": [
        "!hisat2-build --ss chr19.splicesites --exon chr19.exons Mus_musculus.GRCm39.dna.chromosome.19.fa Mus_musculus.GRCm39.dna.chromosome.19"
      ],
      "metadata": {
        "id": "AVwpVn8dvhnk"
      },
      "execution_count": null,
      "outputs": []
    },
    {
      "cell_type": "code",
      "source": [
        "%cd ../"
      ],
      "metadata": {
        "colab": {
          "base_uri": "https://localhost:8080/"
        },
        "id": "clyXnEi5zMq6",
        "outputId": "7db99cc1-390f-450d-ab26-2656a0033567"
      },
      "execution_count": null,
      "outputs": [
        {
          "output_type": "stream",
          "name": "stdout",
          "text": [
            "/content\n"
          ]
        }
      ]
    },
    {
      "cell_type": "code",
      "source": [
        "!mkdir bam_files #directory for hisat2 output files"
      ],
      "metadata": {
        "id": "Gzutktk5zqpN"
      },
      "execution_count": null,
      "outputs": []
    },
    {
      "cell_type": "markdown",
      "source": [
        "Картирование fq файлов с аргументами: --no-softclip - не обрезать риды; --summary - печатать summary;\n",
        "--no-unal - не печатать риды, которые не выровнялись на геном;\n",
        "-U - путь к входным ридам;\n",
        "-x - путь к индексу"
      ],
      "metadata": {
        "id": "rIk2Tgb4iajQ"
      }
    },
    {
      "cell_type": "code",
      "source": [
        "f = 'B34'\n",
        "index = './genome-annotation/Mus_musculus.GRCm39.dna.chromosome.19'\n",
        "file_path = './drive/MyDrive/ngs_rna-seq_data'\n",
        "splice = './genome-annotation/chr19.splicesites'\n",
        "out_path = './bam_files'"
      ],
      "metadata": {
        "id": "VkOH_7sl0jsG"
      },
      "execution_count": null,
      "outputs": []
    },
    {
      "cell_type": "code",
      "source": [
        "!hisat2 --summary-file $f\\.log --no-softclip --no-unal --known-splicesite-infile $splice -x $index -U $file_path/$f\\.fq.gz | samtools view -Sb - > $out_path/$f\\.bam"
      ],
      "metadata": {
        "colab": {
          "base_uri": "https://localhost:8080/"
        },
        "id": "oEbDlowTO52D",
        "outputId": "f57b1123-fc13-41d0-ecc3-27cd38d7a26a"
      },
      "execution_count": null,
      "outputs": [
        {
          "output_type": "stream",
          "name": "stdout",
          "text": [
            "599683 reads; of these:\n",
            "  599683 (100.00%) were unpaired; of these:\n",
            "    51800 (8.64%) aligned 0 times\n",
            "    539811 (90.02%) aligned exactly 1 time\n",
            "    8072 (1.35%) aligned >1 times\n",
            "91.36% overall alignment rate\n"
          ]
        }
      ]
    },
    {
      "cell_type": "code",
      "source": [
        "%%shell\n",
        "reads='B14.5 B17.5 B15.5 B20 C15.5 C14.5 C17.5 C20 C34'\n",
        "index='./genome-annotation/Mus_musculus.GRCm39.dna.chromosome.19'\n",
        "file_path='./drive/MyDrive/ngs_rna-seq_data'\n",
        "splice='./genome-annotation/chr19.splicesites'\n",
        "out_path='./bam_files'\n",
        "for read in ${reads}\n",
        "do hisat2 --summary-file ${read}.log --no-softclip --no-unal --known-splicesite-infile ${splice}  -x ${index} -U ${file_path}/${read}.fq.gz | samtools view -Sb - > ${out_path}/${read}.bam\n",
        "done"
      ],
      "metadata": {
        "id": "wmhgAKga-poZ"
      },
      "execution_count": null,
      "outputs": []
    },
    {
      "cell_type": "markdown",
      "source": [
        "Образец C20"
      ],
      "metadata": {
        "id": "fhlITTbSdGjw"
      }
    },
    {
      "cell_type": "code",
      "source": [
        "! samtools sort -o B20_sorted.bam ./bam_files/B20.bam"
      ],
      "metadata": {
        "id": "T6-mnpUrcnih"
      },
      "execution_count": null,
      "outputs": []
    },
    {
      "cell_type": "code",
      "source": [
        "!samtools index B20_sorted.bam"
      ],
      "metadata": {
        "id": "ANJtUqoFeAX9"
      },
      "execution_count": null,
      "outputs": []
    },
    {
      "cell_type": "code",
      "source": [
        "!samtools view B20_sorted.bam 19:12485000-12490000"
      ],
      "metadata": {
        "colab": {
          "base_uri": "https://localhost:8080/"
        },
        "id": "saKyWeuOeQ6_",
        "outputId": "115ec41e-f7f5-4545-ae79-afba74e54241"
      },
      "execution_count": null,
      "outputs": [
        {
          "output_type": "stream",
          "name": "stdout",
          "text": [
            "HISEQ:129:C2LRCACXX:1:2110:5448:97880\t272\t19\t12479312\t0\t42M56847N42M50311N17M\t*\t0\t0\tTCTCTCTCTCTCTCTCTCTCTCTCTCTCTCTCTCTCTCTCTCGTGTGTGTGTGTGTGTGTGTGTGTGTGTGTGTGTGTGTGTGTGTGTGTGTTGTGGGGAG\t###DDDDDDDDDDBB@BBDDDDDBB@B??<?B@B<B@B@DD@=<BBDDCCDFEFHHHJJJIGJJJIJIHDGGIJJJIJJIIJIIJIG=GHGHFFFFFFCC@\tAS:i:-16\tZS:i:-16\tXN:i:0\tXM:i:0\tXO:i:0\tXG:i:0\tNM:i:0\tMD:Z:101\tYT:Z:UU\tXS:A:+\tNH:i:4\n",
            "HISEQ:129:C2LRCACXX:1:2110:5448:97880\t272\t19\t12479314\t0\t42M56845N42M50311N17M\t*\t0\t0\tTCTCTCTCTCTCTCTCTCTCTCTCTCTCTCTCTCTCTCTCTCGTGTGTGTGTGTGTGTGTGTGTGTGTGTGTGTGTGTGTGTGTGTGTGTGTTGTGGGGAG\t###DDDDDDDDDDBB@BBDDDDDBB@B??<?B@B<B@B@DD@=<BBDDCCDFEFHHHJJJIGJJJIJIHDGGIJJJIJJIIJIIJIG=GHGHFFFFFFCC@\tAS:i:-16\tZS:i:-16\tXN:i:0\tXM:i:0\tXO:i:0\tXG:i:0\tNM:i:0\tMD:Z:101\tYT:Z:UU\tXS:A:+\tNH:i:4\n",
            "HISEQ:129:C2LRCACXX:1:2110:5448:97880\t272\t19\t12479316\t0\t42M56843N42M50311N17M\t*\t0\t0\tTCTCTCTCTCTCTCTCTCTCTCTCTCTCTCTCTCTCTCTCTCGTGTGTGTGTGTGTGTGTGTGTGTGTGTGTGTGTGTGTGTGTGTGTGTGTTGTGGGGAG\t###DDDDDDDDDDBB@BBDDDDDBB@B??<?B@B<B@B@DD@=<BBDDCCDFEFHHHJJJIGJJJIJIHDGGIJJJIJJIIJIIJIG=GHGHFFFFFFCC@\tAS:i:-16\tZS:i:-16\tXN:i:0\tXM:i:0\tXO:i:0\tXG:i:0\tNM:i:0\tMD:Z:101\tYT:Z:UU\tXS:A:+\tNH:i:4\n",
            "HISEQ:129:C2LRCACXX:1:2110:5448:97880\t16\t19\t12479318\t0\t42M56841N42M50311N17M\t*\t0\t0\tTCTCTCTCTCTCTCTCTCTCTCTCTCTCTCTCTCTCTCTCTCGTGTGTGTGTGTGTGTGTGTGTGTGTGTGTGTGTGTGTGTGTGTGTGTGTTGTGGGGAG\t###DDDDDDDDDDBB@BBDDDDDBB@B??<?B@B<B@B@DD@=<BBDDCCDFEFHHHJJJIGJJJIJIHDGGIJJJIJJIIJIIJIG=GHGHFFFFFFCC@\tAS:i:-16\tZS:i:-16\tXN:i:0\tXM:i:0\tXO:i:0\tXG:i:0\tNM:i:0\tMD:Z:101\tYT:Z:UU\tXS:A:+\tNH:i:4\n",
            "HISEQ:129:C2LRCACXX:1:2108:20530:65021\t16\t19\t12486735\t60\t101M\t*\t0\t0\tTTTAAAATCACCCAATAGACTGACTTGCCAGCGTGCCTGTAAGGAGTTATCTAGAATCAGTTAACTAAGGTAGGAATACCCACCCTAACCTTGGGCAGCAC\t:CCDEEDB@@DCDEECDCCDEDCBC@DDFFHHHIIIIIIIIIIIIIIIIIFIIIIIIIIIIIIIIIIIIIIIIIHE<?IGF?IIIIGGHHHHHFFFFFCCC\tAS:i:0\tXN:i:0\tXM:i:0\tXO:i:0\tXG:i:0\tNM:i:0\tMD:Z:101\tYT:Z:UU\tNH:i:1\n",
            "HISEQ:129:C2LRCACXX:1:1204:10203:87648\t16\t19\t12487196\t60\t101M\t*\t0\t0\tTGTATTGACATCTTAAACTATTTCAAATATACCCCAACCTCAGCTAATCTGGGTTACAAACCCCCTAAAATTCAAATAACATCTCATTTGAATGTCCAGAC\t@C:EEEDEDDDCDEEFCDDDDDDEFFFDDBBDDFFECHHHIJJJJJJJJJJJJIIJJIHFIJJJJIJJJJIIJJJJIIJJIHHIJJJJHHHHHFFFFFCCC\tAS:i:-5\tXN:i:0\tXM:i:1\tXO:i:0\tXG:i:0\tNM:i:1\tMD:Z:5C95\tYT:Z:UU\tNH:i:1\n",
            "HISEQ:129:C2LRCACXX:1:2104:14666:2583\t16\t19\t12487196\t60\t101M\t*\t0\t0\tTGTATTGACATCTTAAACTATTTCAAATATACCCCAACCTCAGCTAATCTGGGTTACAAACCCCCTAAAATTCAAATAACATCTCATTTGAATGTCCAGAC\tCDEEEEDEDDDDDEEDDDDDDDEEFFFEDBDDDFFEHHHHJJJJJJJIJJJJJJJJIHHFJJJJIJJJJIIHIJJJJJHIIHJIJJJJHHHHHFFFFFCCC\tAS:i:-5\tXN:i:0\tXM:i:1\tXO:i:0\tXG:i:0\tNM:i:1\tMD:Z:5C95\tYT:Z:UU\tNH:i:1\n"
          ]
        }
      ]
    },
    {
      "cell_type": "markdown",
      "source": [
        "7 ридов, 3 выровнялись на весь геном, один хит (по NH tag)"
      ],
      "metadata": {
        "id": "TbSgL9p3mwn0"
      }
    },
    {
      "cell_type": "code",
      "source": [
        "!samtools view -c B20_sorted.bam"
      ],
      "metadata": {
        "colab": {
          "base_uri": "https://localhost:8080/"
        },
        "id": "o74QhKJRtAsE",
        "outputId": "d116b184-5b45-4704-9074-d16868b98494"
      },
      "execution_count": null,
      "outputs": [
        {
          "output_type": "stream",
          "name": "stdout",
          "text": [
            "561335\n"
          ]
        }
      ]
    },
    {
      "cell_type": "code",
      "source": [
        "%%shell\n",
        "mismatches='0 1 2 3 4 5 6 7 8 9 10 11 12 13 14'\n",
        "for mismatch in ${mismatches}\n",
        "do samtools view B20_sorted.bam | grep -cw NM:i:${mismatch}\n",
        "done"
      ],
      "metadata": {
        "colab": {
          "base_uri": "https://localhost:8080/"
        },
        "id": "y5LRpSitQ4h9",
        "outputId": "75adb547-a06d-4e73-a09b-9ad1d625f4a6"
      },
      "execution_count": null,
      "outputs": [
        {
          "output_type": "stream",
          "name": "stdout",
          "text": [
            "409393\n",
            "105477\n",
            "26331\n",
            "11612\n",
            "4038\n",
            "2213\n",
            "1294\n",
            "599\n",
            "268\n",
            "64\n",
            "36\n",
            "1\n",
            "5\n",
            "3\n",
            "1\n"
          ]
        },
        {
          "output_type": "execute_result",
          "data": {
            "text/plain": []
          },
          "metadata": {},
          "execution_count": 65
        }
      ]
    },
    {
      "cell_type": "markdown",
      "source": [
        "Сверху перечислено количество ридов, картировавшихся без замен, и с 1-14 заменами"
      ],
      "metadata": {
        "id": "ss4i5Cy6ixRc"
      }
    },
    {
      "cell_type": "code",
      "source": [
        "!samtools view B20_sorted.bam | awk '$6!=\"101M\"{count++};END{print count;}'"
      ],
      "metadata": {
        "colab": {
          "base_uri": "https://localhost:8080/"
        },
        "id": "CS2OFKt-tv7C",
        "outputId": "053c88f5-98dd-4773-8f3f-e79d0662840f"
      },
      "execution_count": null,
      "outputs": [
        {
          "output_type": "stream",
          "name": "stdout",
          "text": [
            "140442\n"
          ]
        }
      ]
    },
    {
      "cell_type": "markdown",
      "source": [
        "19:12485000-12490000 42M56847N42M50311N17M  \n",
        "19:12485000-12490000 42M56845N42M50311N17M  \n",
        "19:12485000-12490000 42M56843N42M50311N17M  \n",
        "19:12485000-12490000 42M56841N42M50311N17M\n",
        "\n",
        "\n"
      ],
      "metadata": {
        "id": "aYvaMsNDJK1e"
      }
    },
    {
      "cell_type": "markdown",
      "source": [
        "4 рида картировались на экзон-экзонные границы"
      ],
      "metadata": {
        "id": "jtHd7oE3jMb1"
      }
    }
  ]
}